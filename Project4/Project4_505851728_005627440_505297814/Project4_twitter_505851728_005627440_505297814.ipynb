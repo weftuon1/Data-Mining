{
 "cells": [
  {
   "cell_type": "markdown",
   "metadata": {
    "id": "Sew3v98ggk5k"
   },
   "source": [
    "# Part 2: Twitter Data"
   ]
  },
  {
   "cell_type": "markdown",
   "metadata": {
    "id": "3zYfSTGPAiwF"
   },
   "source": [
    " # Install cuDF & cuML\n",
    " Reference: https://colab.research.google.com/drive/1rY7Ln6rEE1pOlfSHCYOVaqt8OvDO35J0?usp=sharing"
   ]
  },
  {
   "cell_type": "code",
   "execution_count": null,
   "metadata": {
    "id": "v6KRthgziGKx"
   },
   "outputs": [],
   "source": [
    "# This get the RAPIDS-Colab install files and test check your GPU.  Run this and the next cell only.\n",
    "# Please read the output of this cell.  If your Colab Instance is not RAPIDS compatible, it will warn you and give you remediation steps.\n",
    "!git clone https://github.com/rapidsai/rapidsai-csp-utils.git\n",
    "!python rapidsai-csp-utils/colab/env-check.py"
   ]
  },
  {
   "cell_type": "code",
   "execution_count": null,
   "metadata": {
    "id": "VP1oXOUeihRr"
   },
   "outputs": [],
   "source": [
    "# This will update the Colab environment and restart the kernel.  Don't run the next cell until you see the session crash.\n",
    "!bash rapidsai-csp-utils/colab/update_gcc.sh\n",
    "import os\n",
    "os._exit(00)"
   ]
  },
  {
   "cell_type": "code",
   "execution_count": null,
   "metadata": {
    "id": "MVwOwoizi9e5"
   },
   "outputs": [],
   "source": [
    "# This will install CondaColab.  This will restart your kernel one last time.  Run this cell by itself and only run the next cell once you see the session crash.\n",
    "import condacolab\n",
    "condacolab.install()"
   ]
  },
  {
   "cell_type": "code",
   "execution_count": null,
   "metadata": {
    "id": "9-toZh5qjPJE"
   },
   "outputs": [],
   "source": [
    "# you can now run the rest of the cells as normal\n",
    "import condacolab\n",
    "condacolab.check()"
   ]
  },
  {
   "cell_type": "code",
   "execution_count": null,
   "metadata": {
    "id": "H6I5PXRwjUFy"
   },
   "outputs": [],
   "source": [
    "# Installing RAPIDS is now 'python rapidsai-csp-utils/colab/install_rapids.py <release> <packages>'\n",
    "# The <release> options are 'stable' and 'nightly'.  Leaving it blank or adding any other words will default to stable.\n",
    "!python rapidsai-csp-utils/colab/install_rapids.py stable\n",
    "import os\n",
    "os.environ['NUMBAPRO_NVVM'] = '/usr/local/cuda/nvvm/lib64/libnvvm.so'\n",
    "os.environ['NUMBAPRO_LIBDEVICE'] = '/usr/local/cuda/nvvm/libdevice/'\n",
    "os.environ['CONDA_PREFIX'] = '/usr/local'"
   ]
  },
  {
   "cell_type": "markdown",
   "metadata": {
    "id": "rTUFPonv4J4E"
   },
   "source": [
    "========================================"
   ]
  },
  {
   "cell_type": "code",
   "execution_count": null,
   "metadata": {
    "colab": {
     "base_uri": "https://localhost:8080/"
    },
    "id": "pIrJDDe_ixmb",
    "outputId": "ae18c24b-a73d-41e5-901d-7a1e5060c312"
   },
   "outputs": [
    {
     "name": "stdout",
     "output_type": "stream",
     "text": [
      "Drive already mounted at /content/drive; to attempt to forcibly remount, call drive.mount(\"/content/drive\", force_remount=True).\n"
     ]
    }
   ],
   "source": [
    "# from matplotlib import path\n",
    "from google.colab import drive\n",
    "drive.mount('/content/drive')\n",
    "import sys    \n",
    "import os\n",
    "path_to_module = '/content/drive/MyDrive/'\n",
    "sys.path.append(path_to_module)\n",
    "os.chdir(path_to_module)"
   ]
  },
  {
   "cell_type": "code",
   "execution_count": null,
   "metadata": {
    "colab": {
     "base_uri": "https://localhost:8080/"
    },
    "id": "SxX3beXxiyWM",
    "outputId": "082a6e8e-da7e-4c58-b0c7-065a696f14ae"
   },
   "outputs": [
    {
     "name": "stdout",
     "output_type": "stream",
     "text": [
      "Fri Mar 18 21:16:22 2022       \n",
      "+-----------------------------------------------------------------------------+\n",
      "| NVIDIA-SMI 460.32.03    Driver Version: 460.32.03    CUDA Version: 11.2     |\n",
      "|-------------------------------+----------------------+----------------------+\n",
      "| GPU  Name        Persistence-M| Bus-Id        Disp.A | Volatile Uncorr. ECC |\n",
      "| Fan  Temp  Perf  Pwr:Usage/Cap|         Memory-Usage | GPU-Util  Compute M. |\n",
      "|                               |                      |               MIG M. |\n",
      "|===============================+======================+======================|\n",
      "|   0  Tesla P100-PCIE...  Off  | 00000000:00:04.0 Off |                    0 |\n",
      "| N/A   36C    P0    26W / 250W |      0MiB / 16280MiB |      0%      Default |\n",
      "|                               |                      |                  N/A |\n",
      "+-------------------------------+----------------------+----------------------+\n",
      "                                                                               \n",
      "+-----------------------------------------------------------------------------+\n",
      "| Processes:                                                                  |\n",
      "|  GPU   GI   CI        PID   Type   Process name                  GPU Memory |\n",
      "|        ID   ID                                                   Usage      |\n",
      "|=============================================================================|\n",
      "|  No running processes found                                                 |\n",
      "+-----------------------------------------------------------------------------+\n",
      "Your runtime has 27.3 gigabytes of available RAM\n",
      "\n",
      "You are using a high-RAM runtime!\n"
     ]
    }
   ],
   "source": [
    "gpu_info = !nvidia-smi\n",
    "gpu_info = '\\n'.join(gpu_info)\n",
    "if gpu_info.find('failed') >= 0:\n",
    "    print('Not connected to a GPU')\n",
    "else:\n",
    "    print(gpu_info)\n",
    "\n",
    "from psutil import virtual_memory\n",
    "ram_gb = virtual_memory().total / 1e9\n",
    "print('Your runtime has {:.1f} gigabytes of available RAM\\n'.format(ram_gb))\n",
    "\n",
    "if ram_gb < 20:\n",
    "    print('Not using a high-RAM runtime')\n",
    "else:\n",
    "    print('You are using a high-RAM runtime!')"
   ]
  },
  {
   "cell_type": "code",
   "execution_count": null,
   "metadata": {
    "colab": {
     "base_uri": "https://localhost:8080/"
    },
    "id": "IAqbPoCctarf",
    "outputId": "d25d4aaa-c747-48e4-f73e-200085036643"
   },
   "outputs": [
    {
     "name": "stdout",
     "output_type": "stream",
     "text": [
      "[nltk_data] Downloading collection 'all'\n",
      "[nltk_data]    | \n",
      "[nltk_data]    | Downloading package abc to /root/nltk_data...\n",
      "[nltk_data]    |   Package abc is already up-to-date!\n",
      "[nltk_data]    | Downloading package alpino to /root/nltk_data...\n",
      "[nltk_data]    |   Package alpino is already up-to-date!\n",
      "[nltk_data]    | Downloading package averaged_perceptron_tagger to\n",
      "[nltk_data]    |     /root/nltk_data...\n",
      "[nltk_data]    |   Package averaged_perceptron_tagger is already up-\n",
      "[nltk_data]    |       to-date!\n",
      "[nltk_data]    | Downloading package averaged_perceptron_tagger_ru to\n",
      "[nltk_data]    |     /root/nltk_data...\n",
      "[nltk_data]    |   Package averaged_perceptron_tagger_ru is already\n",
      "[nltk_data]    |       up-to-date!\n",
      "[nltk_data]    | Downloading package basque_grammars to\n",
      "[nltk_data]    |     /root/nltk_data...\n",
      "[nltk_data]    |   Package basque_grammars is already up-to-date!\n",
      "[nltk_data]    | Downloading package biocreative_ppi to\n",
      "[nltk_data]    |     /root/nltk_data...\n",
      "[nltk_data]    |   Package biocreative_ppi is already up-to-date!\n",
      "[nltk_data]    | Downloading package bllip_wsj_no_aux to\n",
      "[nltk_data]    |     /root/nltk_data...\n",
      "[nltk_data]    |   Package bllip_wsj_no_aux is already up-to-date!\n",
      "[nltk_data]    | Downloading package book_grammars to\n",
      "[nltk_data]    |     /root/nltk_data...\n",
      "[nltk_data]    |   Package book_grammars is already up-to-date!\n",
      "[nltk_data]    | Downloading package brown to /root/nltk_data...\n",
      "[nltk_data]    |   Package brown is already up-to-date!\n",
      "[nltk_data]    | Downloading package brown_tei to /root/nltk_data...\n",
      "[nltk_data]    |   Package brown_tei is already up-to-date!\n",
      "[nltk_data]    | Downloading package cess_cat to /root/nltk_data...\n",
      "[nltk_data]    |   Package cess_cat is already up-to-date!\n",
      "[nltk_data]    | Downloading package cess_esp to /root/nltk_data...\n",
      "[nltk_data]    |   Package cess_esp is already up-to-date!\n",
      "[nltk_data]    | Downloading package chat80 to /root/nltk_data...\n",
      "[nltk_data]    |   Package chat80 is already up-to-date!\n",
      "[nltk_data]    | Downloading package city_database to\n",
      "[nltk_data]    |     /root/nltk_data...\n",
      "[nltk_data]    |   Package city_database is already up-to-date!\n",
      "[nltk_data]    | Downloading package cmudict to /root/nltk_data...\n",
      "[nltk_data]    |   Package cmudict is already up-to-date!\n",
      "[nltk_data]    | Downloading package comparative_sentences to\n",
      "[nltk_data]    |     /root/nltk_data...\n",
      "[nltk_data]    |   Package comparative_sentences is already up-to-\n",
      "[nltk_data]    |       date!\n",
      "[nltk_data]    | Downloading package comtrans to /root/nltk_data...\n",
      "[nltk_data]    |   Package comtrans is already up-to-date!\n",
      "[nltk_data]    | Downloading package conll2000 to /root/nltk_data...\n",
      "[nltk_data]    |   Package conll2000 is already up-to-date!\n",
      "[nltk_data]    | Downloading package conll2002 to /root/nltk_data...\n",
      "[nltk_data]    |   Package conll2002 is already up-to-date!\n",
      "[nltk_data]    | Downloading package conll2007 to /root/nltk_data...\n",
      "[nltk_data]    |   Package conll2007 is already up-to-date!\n",
      "[nltk_data]    | Downloading package crubadan to /root/nltk_data...\n",
      "[nltk_data]    |   Package crubadan is already up-to-date!\n",
      "[nltk_data]    | Downloading package dependency_treebank to\n",
      "[nltk_data]    |     /root/nltk_data...\n",
      "[nltk_data]    |   Package dependency_treebank is already up-to-date!\n",
      "[nltk_data]    | Downloading package dolch to /root/nltk_data...\n",
      "[nltk_data]    |   Package dolch is already up-to-date!\n",
      "[nltk_data]    | Downloading package europarl_raw to\n",
      "[nltk_data]    |     /root/nltk_data...\n",
      "[nltk_data]    |   Package europarl_raw is already up-to-date!\n",
      "[nltk_data]    | Downloading package extended_omw to\n",
      "[nltk_data]    |     /root/nltk_data...\n",
      "[nltk_data]    |   Package extended_omw is already up-to-date!\n",
      "[nltk_data]    | Downloading package floresta to /root/nltk_data...\n",
      "[nltk_data]    |   Package floresta is already up-to-date!\n",
      "[nltk_data]    | Downloading package framenet_v15 to\n",
      "[nltk_data]    |     /root/nltk_data...\n",
      "[nltk_data]    |   Package framenet_v15 is already up-to-date!\n",
      "[nltk_data]    | Downloading package framenet_v17 to\n",
      "[nltk_data]    |     /root/nltk_data...\n",
      "[nltk_data]    |   Package framenet_v17 is already up-to-date!\n",
      "[nltk_data]    | Downloading package gazetteers to /root/nltk_data...\n",
      "[nltk_data]    |   Package gazetteers is already up-to-date!\n",
      "[nltk_data]    | Downloading package genesis to /root/nltk_data...\n",
      "[nltk_data]    |   Package genesis is already up-to-date!\n",
      "[nltk_data]    | Downloading package gutenberg to /root/nltk_data...\n",
      "[nltk_data]    |   Package gutenberg is already up-to-date!\n",
      "[nltk_data]    | Downloading package ieer to /root/nltk_data...\n",
      "[nltk_data]    |   Package ieer is already up-to-date!\n",
      "[nltk_data]    | Downloading package inaugural to /root/nltk_data...\n",
      "[nltk_data]    |   Package inaugural is already up-to-date!\n",
      "[nltk_data]    | Downloading package indian to /root/nltk_data...\n",
      "[nltk_data]    |   Package indian is already up-to-date!\n",
      "[nltk_data]    | Downloading package jeita to /root/nltk_data...\n",
      "[nltk_data]    |   Package jeita is already up-to-date!\n",
      "[nltk_data]    | Downloading package kimmo to /root/nltk_data...\n",
      "[nltk_data]    |   Package kimmo is already up-to-date!\n",
      "[nltk_data]    | Downloading package knbc to /root/nltk_data...\n",
      "[nltk_data]    |   Package knbc is already up-to-date!\n",
      "[nltk_data]    | Downloading package large_grammars to\n",
      "[nltk_data]    |     /root/nltk_data...\n",
      "[nltk_data]    |   Package large_grammars is already up-to-date!\n",
      "[nltk_data]    | Downloading package lin_thesaurus to\n",
      "[nltk_data]    |     /root/nltk_data...\n",
      "[nltk_data]    |   Package lin_thesaurus is already up-to-date!\n",
      "[nltk_data]    | Downloading package mac_morpho to /root/nltk_data...\n",
      "[nltk_data]    |   Package mac_morpho is already up-to-date!\n",
      "[nltk_data]    | Downloading package machado to /root/nltk_data...\n",
      "[nltk_data]    |   Package machado is already up-to-date!\n",
      "[nltk_data]    | Downloading package masc_tagged to /root/nltk_data...\n",
      "[nltk_data]    |   Package masc_tagged is already up-to-date!\n",
      "[nltk_data]    | Downloading package maxent_ne_chunker to\n",
      "[nltk_data]    |     /root/nltk_data...\n",
      "[nltk_data]    |   Package maxent_ne_chunker is already up-to-date!\n",
      "[nltk_data]    | Downloading package maxent_treebank_pos_tagger to\n",
      "[nltk_data]    |     /root/nltk_data...\n",
      "[nltk_data]    |   Package maxent_treebank_pos_tagger is already up-\n",
      "[nltk_data]    |       to-date!\n",
      "[nltk_data]    | Downloading package moses_sample to\n",
      "[nltk_data]    |     /root/nltk_data...\n",
      "[nltk_data]    |   Package moses_sample is already up-to-date!\n",
      "[nltk_data]    | Downloading package movie_reviews to\n",
      "[nltk_data]    |     /root/nltk_data...\n",
      "[nltk_data]    |   Package movie_reviews is already up-to-date!\n",
      "[nltk_data]    | Downloading package mte_teip5 to /root/nltk_data...\n",
      "[nltk_data]    |   Package mte_teip5 is already up-to-date!\n",
      "[nltk_data]    | Downloading package mwa_ppdb to /root/nltk_data...\n",
      "[nltk_data]    |   Package mwa_ppdb is already up-to-date!\n",
      "[nltk_data]    | Downloading package names to /root/nltk_data...\n",
      "[nltk_data]    |   Package names is already up-to-date!\n",
      "[nltk_data]    | Downloading package nombank.1.0 to /root/nltk_data...\n",
      "[nltk_data]    |   Package nombank.1.0 is already up-to-date!\n",
      "[nltk_data]    | Downloading package nonbreaking_prefixes to\n",
      "[nltk_data]    |     /root/nltk_data...\n",
      "[nltk_data]    |   Package nonbreaking_prefixes is already up-to-date!\n",
      "[nltk_data]    | Downloading package nps_chat to /root/nltk_data...\n",
      "[nltk_data]    |   Package nps_chat is already up-to-date!\n",
      "[nltk_data]    | Downloading package omw to /root/nltk_data...\n",
      "[nltk_data]    |   Package omw is already up-to-date!\n",
      "[nltk_data]    | Downloading package omw-1.4 to /root/nltk_data...\n",
      "[nltk_data]    |   Package omw-1.4 is already up-to-date!\n",
      "[nltk_data]    | Downloading package opinion_lexicon to\n",
      "[nltk_data]    |     /root/nltk_data...\n",
      "[nltk_data]    |   Package opinion_lexicon is already up-to-date!\n",
      "[nltk_data]    | Downloading package panlex_swadesh to\n",
      "[nltk_data]    |     /root/nltk_data...\n",
      "[nltk_data]    |   Package panlex_swadesh is already up-to-date!\n",
      "[nltk_data]    | Downloading package paradigms to /root/nltk_data...\n",
      "[nltk_data]    |   Package paradigms is already up-to-date!\n",
      "[nltk_data]    | Downloading package pe08 to /root/nltk_data...\n",
      "[nltk_data]    |   Package pe08 is already up-to-date!\n",
      "[nltk_data]    | Downloading package perluniprops to\n",
      "[nltk_data]    |     /root/nltk_data...\n",
      "[nltk_data]    |   Package perluniprops is already up-to-date!\n",
      "[nltk_data]    | Downloading package pil to /root/nltk_data...\n",
      "[nltk_data]    |   Package pil is already up-to-date!\n",
      "[nltk_data]    | Downloading package pl196x to /root/nltk_data...\n",
      "[nltk_data]    |   Package pl196x is already up-to-date!\n",
      "[nltk_data]    | Downloading package porter_test to /root/nltk_data...\n",
      "[nltk_data]    |   Package porter_test is already up-to-date!\n",
      "[nltk_data]    | Downloading package ppattach to /root/nltk_data...\n",
      "[nltk_data]    |   Package ppattach is already up-to-date!\n",
      "[nltk_data]    | Downloading package problem_reports to\n",
      "[nltk_data]    |     /root/nltk_data...\n",
      "[nltk_data]    |   Package problem_reports is already up-to-date!\n",
      "[nltk_data]    | Downloading package product_reviews_1 to\n",
      "[nltk_data]    |     /root/nltk_data...\n",
      "[nltk_data]    |   Package product_reviews_1 is already up-to-date!\n",
      "[nltk_data]    | Downloading package product_reviews_2 to\n",
      "[nltk_data]    |     /root/nltk_data...\n",
      "[nltk_data]    |   Package product_reviews_2 is already up-to-date!\n",
      "[nltk_data]    | Downloading package propbank to /root/nltk_data...\n",
      "[nltk_data]    |   Package propbank is already up-to-date!\n",
      "[nltk_data]    | Downloading package pros_cons to /root/nltk_data...\n",
      "[nltk_data]    |   Package pros_cons is already up-to-date!\n",
      "[nltk_data]    | Downloading package ptb to /root/nltk_data...\n",
      "[nltk_data]    |   Package ptb is already up-to-date!\n",
      "[nltk_data]    | Downloading package punkt to /root/nltk_data...\n",
      "[nltk_data]    |   Package punkt is already up-to-date!\n",
      "[nltk_data]    | Downloading package qc to /root/nltk_data...\n",
      "[nltk_data]    |   Package qc is already up-to-date!\n",
      "[nltk_data]    | Downloading package reuters to /root/nltk_data...\n",
      "[nltk_data]    |   Package reuters is already up-to-date!\n",
      "[nltk_data]    | Downloading package rslp to /root/nltk_data...\n",
      "[nltk_data]    |   Package rslp is already up-to-date!\n",
      "[nltk_data]    | Downloading package rte to /root/nltk_data...\n",
      "[nltk_data]    |   Package rte is already up-to-date!\n",
      "[nltk_data]    | Downloading package sample_grammars to\n",
      "[nltk_data]    |     /root/nltk_data...\n",
      "[nltk_data]    |   Package sample_grammars is already up-to-date!\n",
      "[nltk_data]    | Downloading package semcor to /root/nltk_data...\n",
      "[nltk_data]    |   Package semcor is already up-to-date!\n",
      "[nltk_data]    | Downloading package senseval to /root/nltk_data...\n",
      "[nltk_data]    |   Package senseval is already up-to-date!\n",
      "[nltk_data]    | Downloading package sentence_polarity to\n",
      "[nltk_data]    |     /root/nltk_data...\n",
      "[nltk_data]    |   Package sentence_polarity is already up-to-date!\n",
      "[nltk_data]    | Downloading package sentiwordnet to\n",
      "[nltk_data]    |     /root/nltk_data...\n",
      "[nltk_data]    |   Package sentiwordnet is already up-to-date!\n",
      "[nltk_data]    | Downloading package shakespeare to /root/nltk_data...\n",
      "[nltk_data]    |   Package shakespeare is already up-to-date!\n",
      "[nltk_data]    | Downloading package sinica_treebank to\n",
      "[nltk_data]    |     /root/nltk_data...\n",
      "[nltk_data]    |   Package sinica_treebank is already up-to-date!\n",
      "[nltk_data]    | Downloading package smultron to /root/nltk_data...\n",
      "[nltk_data]    |   Package smultron is already up-to-date!\n",
      "[nltk_data]    | Downloading package snowball_data to\n",
      "[nltk_data]    |     /root/nltk_data...\n",
      "[nltk_data]    |   Package snowball_data is already up-to-date!\n",
      "[nltk_data]    | Downloading package spanish_grammars to\n",
      "[nltk_data]    |     /root/nltk_data...\n",
      "[nltk_data]    |   Package spanish_grammars is already up-to-date!\n",
      "[nltk_data]    | Downloading package state_union to /root/nltk_data...\n",
      "[nltk_data]    |   Package state_union is already up-to-date!\n",
      "[nltk_data]    | Downloading package stopwords to /root/nltk_data...\n",
      "[nltk_data]    |   Package stopwords is already up-to-date!\n",
      "[nltk_data]    | Downloading package subjectivity to\n",
      "[nltk_data]    |     /root/nltk_data...\n",
      "[nltk_data]    |   Package subjectivity is already up-to-date!\n",
      "[nltk_data]    | Downloading package swadesh to /root/nltk_data...\n",
      "[nltk_data]    |   Package swadesh is already up-to-date!\n",
      "[nltk_data]    | Downloading package switchboard to /root/nltk_data...\n",
      "[nltk_data]    |   Package switchboard is already up-to-date!\n",
      "[nltk_data]    | Downloading package tagsets to /root/nltk_data...\n",
      "[nltk_data]    |   Package tagsets is already up-to-date!\n",
      "[nltk_data]    | Downloading package timit to /root/nltk_data...\n",
      "[nltk_data]    |   Package timit is already up-to-date!\n",
      "[nltk_data]    | Downloading package toolbox to /root/nltk_data...\n",
      "[nltk_data]    |   Package toolbox is already up-to-date!\n",
      "[nltk_data]    | Downloading package treebank to /root/nltk_data...\n",
      "[nltk_data]    |   Package treebank is already up-to-date!\n",
      "[nltk_data]    | Downloading package twitter_samples to\n",
      "[nltk_data]    |     /root/nltk_data...\n",
      "[nltk_data]    |   Package twitter_samples is already up-to-date!\n",
      "[nltk_data]    | Downloading package udhr to /root/nltk_data...\n",
      "[nltk_data]    |   Package udhr is already up-to-date!\n",
      "[nltk_data]    | Downloading package udhr2 to /root/nltk_data...\n",
      "[nltk_data]    |   Package udhr2 is already up-to-date!\n",
      "[nltk_data]    | Downloading package unicode_samples to\n",
      "[nltk_data]    |     /root/nltk_data...\n",
      "[nltk_data]    |   Package unicode_samples is already up-to-date!\n",
      "[nltk_data]    | Downloading package universal_tagset to\n",
      "[nltk_data]    |     /root/nltk_data...\n",
      "[nltk_data]    |   Package universal_tagset is already up-to-date!\n",
      "[nltk_data]    | Downloading package universal_treebanks_v20 to\n",
      "[nltk_data]    |     /root/nltk_data...\n",
      "[nltk_data]    |   Package universal_treebanks_v20 is already up-to-\n",
      "[nltk_data]    |       date!\n",
      "[nltk_data]    | Downloading package vader_lexicon to\n",
      "[nltk_data]    |     /root/nltk_data...\n",
      "[nltk_data]    |   Package vader_lexicon is already up-to-date!\n",
      "[nltk_data]    | Downloading package verbnet to /root/nltk_data...\n",
      "[nltk_data]    |   Package verbnet is already up-to-date!\n",
      "[nltk_data]    | Downloading package verbnet3 to /root/nltk_data...\n",
      "[nltk_data]    |   Package verbnet3 is already up-to-date!\n",
      "[nltk_data]    | Downloading package webtext to /root/nltk_data...\n",
      "[nltk_data]    |   Package webtext is already up-to-date!\n",
      "[nltk_data]    | Downloading package wmt15_eval to /root/nltk_data...\n",
      "[nltk_data]    |   Package wmt15_eval is already up-to-date!\n",
      "[nltk_data]    | Downloading package word2vec_sample to\n",
      "[nltk_data]    |     /root/nltk_data...\n",
      "[nltk_data]    |   Package word2vec_sample is already up-to-date!\n",
      "[nltk_data]    | Downloading package wordnet to /root/nltk_data...\n",
      "[nltk_data]    |   Package wordnet is already up-to-date!\n",
      "[nltk_data]    | Downloading package wordnet2021 to /root/nltk_data...\n",
      "[nltk_data]    |   Package wordnet2021 is already up-to-date!\n",
      "[nltk_data]    | Downloading package wordnet31 to /root/nltk_data...\n",
      "[nltk_data]    |   Package wordnet31 is already up-to-date!\n",
      "[nltk_data]    | Downloading package wordnet_ic to /root/nltk_data...\n",
      "[nltk_data]    |   Package wordnet_ic is already up-to-date!\n",
      "[nltk_data]    | Downloading package words to /root/nltk_data...\n",
      "[nltk_data]    |   Package words is already up-to-date!\n",
      "[nltk_data]    | Downloading package ycoe to /root/nltk_data...\n",
      "[nltk_data]    |   Package ycoe is already up-to-date!\n",
      "[nltk_data]    | \n",
      "[nltk_data]  Done downloading collection all\n"
     ]
    }
   ],
   "source": [
    "import numpy as np\n",
    "import pandas as pd\n",
    "import matplotlib.pyplot as plt\n",
    "import string\n",
    "import nltk\n",
    "nltk.download(\"all\")\n",
    "import json\n",
    "import datetime, time\n",
    "import pytz\n",
    "import csv\n",
    "import math\n",
    "\n",
    "import warnings\n",
    "warnings.filterwarnings('ignore')\n",
    "\n",
    "from nltk import pos_tag, word_tokenize\n",
    "from nltk.stem.wordnet import WordNetLemmatizer\n",
    "from nltk.corpus import wordnet as wn\n",
    "from nltk.corpus import stopwords\n",
    "from nltk.corpus import wordnet\n",
    "from nltk.corpus import words\n",
    "from nltk.stem.lancaster import LancasterStemmer as LS\n",
    "\n",
    "from string import punctuation\n",
    "from collections import Counter\n",
    "import re\n",
    "import seaborn as sns\n",
    "\n",
    "from sklearn.model_selection import train_test_split\n",
    "from sklearn.feature_extraction import text\n",
    "from sklearn.feature_extraction.text import ENGLISH_STOP_WORDS\n",
    "\n",
    "from sklearn.model_selection import cross_validate\n",
    "from sklearn.model_selection import GridSearchCV\n",
    "from sklearn.metrics import accuracy_score, roc_curve, confusion_matrix, recall_score, precision_score, f1_score\n",
    "\n",
    "# from sklearn.decomposition import TruncatedSVD\n",
    "# from sklearn.feature_extraction.text import CountVectorizer\n",
    "# from sklearn.feature_extraction.text import TfidfTransformer\n",
    "# from sklearn.feature_extraction.text import TfidfVectorizer\n",
    "# from sklearn.svm import SVC\n",
    "# from sklearn.linear_model import LogisticRegression\n",
    "# from sklearn.naive_bayes import GaussianNB\n",
    "\n",
    "import cudf\n",
    "import cuml\n",
    "\n",
    "from cuml.preprocessing.text.stem import PorterStemmer\n",
    "from cuml.feature_extraction.text import CountVectorizer\n",
    "from cuml.feature_extraction.text import TfidfTransformer\n",
    "from cuml.feature_extraction.text import TfidfVectorizer\n",
    "\n",
    "from cuml.decomposition import TruncatedSVD\n",
    "\n",
    "from cuml.ensemble import RandomForestClassifier as cuRFC\n",
    "from cuml.ensemble import RandomForestRegressor as cuRFR\n",
    "from cuml.svm import SVC\n",
    "\n",
    "from cuml.naive_bayes import GaussianNB\n",
    "from cuml.linear_model import LinearRegression\n",
    "from cuml.linear_model import LogisticRegression\n",
    "\n",
    "from cuml.metrics.regression import mean_squared_error\n",
    "from cuml.metrics.regression import mean_absolute_error\n",
    "from cuml.metrics.regression import r2_score"
   ]
  },
  {
   "cell_type": "code",
   "execution_count": null,
   "metadata": {
    "id": "n_g5v9CEbLGB"
   },
   "outputs": [],
   "source": [
    "tweetFiles = [\"./ECE219_tweet_data/tweets_#superbowl.txt\", \n",
    "              \"./ECE219_tweet_data/tweets_#nfl.txt\", \n",
    "              \"./ECE219_tweet_data/tweets_#gohawks.txt\", \n",
    "              \"./ECE219_tweet_data/tweets_#gopatriots.txt\", \n",
    "              \"./ECE219_tweet_data/tweets_#patriots.txt\", \n",
    "              \"./ECE219_tweet_data/tweets_#sb49.txt\"]"
   ]
  },
  {
   "cell_type": "code",
   "execution_count": null,
   "metadata": {
    "colab": {
     "base_uri": "https://localhost:8080/"
    },
    "id": "gh63oXiwQBLV",
    "outputId": "1088cfc5-4e0e-4ee1-f085-8a55a9bafb09"
   },
   "outputs": [
    {
     "name": "stdout",
     "output_type": "stream",
     "text": [
      "==================================================\n",
      "firstpost_date\n",
      "title\n",
      "url\n",
      "tweet\n",
      "author\n",
      "original_author\n",
      "citation_date\n",
      "metrics\n",
      "highlight\n",
      "type\n",
      "citation_url\n",
      "\n",
      "--------------------------------------------------\n",
      "firstpost_date:\n",
      "1420835445\n",
      "\n",
      "--------------------------------------------------\n",
      "title:\n",
      "LeGarrette Blount does the Ray Lewis Dance #ThrowbackThursday https://t.co/F5FX5KVmdX\n",
      "Hope to see it at least 3 times tomorrow. \n",
      "#GoPatriots\n",
      "\n",
      "--------------------------------------------------\n",
      "url:\n",
      "http://twitter.com/NESportsFan1106/status/553650101105606656\n",
      "\n",
      "--------------------------------------------------\n",
      "tweet:\n",
      "{'contributors': None, 'truncated': False, 'text': 'LeGarrette Blount does the Ray Lewis Dance #ThrowbackThursday https://t.co/F5FX5KVmdX\\nHope to see it at least 3 times tomorrow. \\n#GoPatriots', 'in_reply_to_status_id': None, 'id': 553650101105606656, 'favorite_count': 0, 'source': '<a href=\"http://twitter.com/download/android\" rel=\"nofollow\">Twitter for Android</a>', 'retweeted': False, 'coordinates': None, 'timestamp_ms': '1420835445082', 'entities': {'symbols': [], 'user_mentions': [], 'trends': [], 'hashtags': [{'indices': [43, 61], 'text': 'ThrowbackThursday'}, {'indices': [129, 140], 'text': 'GoPatriots'}], 'urls': [{'indices': [62, 85], 'url': 'https://t.co/F5FX5KVmdX', 'expanded_url': 'https://vine.co/v/OphHATaAggX', 'display_url': 'vine.co/v/OphHATaAggX'}]}, 'in_reply_to_screen_name': None, 'in_reply_to_user_id': None, 'retweet_count': 0, 'id_str': '553650101105606656', 'favorited': False, 'user': {'follow_request_sent': None, 'profile_use_background_image': True, 'geo_enabled': True, 'description': 'Follow me for News on Boston Sports Teams!  #GoPatriots #GoRedSox #GoBruins #GoCeltics\\r\\nHuge Boston Sports Fan', 'verified': False, 'profile_image_url_https': 'https://pbs.twimg.com/profile_images/551201267783983105/wWelNsyR_normal.jpeg', 'profile_sidebar_fill_color': 'DDEEF6', 'is_translator': False, 'id': 753321800, 'profile_text_color': '333333', 'followers_count': 3317, 'profile_sidebar_border_color': 'C0DEED', 'id_str': '753321800', 'default_profile_image': False, 'location': 'Boston, Massachusetts', 'utc_offset': -18000, 'statuses_count': 31129, 'profile_background_color': 'C0DEED', 'friends_count': 2948, 'profile_link_color': '0084B4', 'profile_image_url': 'http://pbs.twimg.com/profile_images/551201267783983105/wWelNsyR_normal.jpeg', 'notifications': None, 'profile_background_image_url_https': 'https://abs.twimg.com/images/themes/theme1/bg.png', 'profile_banner_url': 'https://pbs.twimg.com/profile_banners/753321800/1395953837', 'profile_background_image_url': 'http://abs.twimg.com/images/themes/theme1/bg.png', 'name': 'Boston Sports Fan', 'lang': 'en', 'profile_background_tile': False, 'favourites_count': 8660, 'screen_name': 'NESportsFan1106', 'url': None, 'created_at': 'Sun Aug 12 15:43:27 +0000 2012', 'contributors_enabled': False, 'time_zone': 'Eastern Time (US & Canada)', 'protected': False, 'default_profile': True, 'following': None, 'listed_count': 42}, 'geo': None, 'in_reply_to_user_id_str': None, 'possibly_sensitive': False, 'lang': 'en', 'created_at': 'Fri Jan 09 20:30:45 +0000 2015', 'filter_level': 'medium', 'in_reply_to_status_id_str': None, 'place': None}\n",
      "\n",
      "--------------------------------------------------\n",
      "author:\n",
      "{'author_img': 'http://pbs.twimg.com/profile_images/562109096519012352/49vxe_9q_normal.jpeg', 'name': 'Alex Kroll', 'url': 'http://twitter.com/patsnation87', 'nick': 'patsnation87', 'followers': 2895.0, 'image_url': 'http://pbs.twimg.com/profile_images/562109096519012352/49vxe_9q_normal.jpeg', 'type': 'twitter', 'description': \"I'm a die-hard Patriots, Suns, Badgers and Brewers fan #TeamPatriots | #PatsNation | #FuelTheFire | #GoSuns | #Brewcrew | #Bucks | #FeerTheDeer\"}\n",
      "\n",
      "--------------------------------------------------\n",
      "original_author:\n",
      "{'author_img': 'http://pbs.twimg.com/profile_images/551201267783983105/wWelNsyR_normal.jpeg', 'description': 'Follow me for News on Boston Sports Teams!  #GoPatriots #GoRedSox #GoBruins #GoCeltics\\r\\nHuge Boston Sports Fan', 'url': 'http://twitter.com/nesportsfan1106', 'nick': 'nesportsfan1106', 'followers': 3811.0, 'image_url': 'http://pbs.twimg.com/profile_images/551201267783983105/wWelNsyR_normal.jpeg', 'type': 'twitter', 'name': 'Boston Sports Fan'}\n",
      "\n",
      "--------------------------------------------------\n",
      "citation_date:\n",
      "1421257541\n",
      "\n",
      "--------------------------------------------------\n",
      "metrics:\n",
      "{'acceleration': 0, 'ranking_score': 4.6402764, 'citations': {'influential': 0, 'total': 6, 'data': [{'timestamp': 1421257499, 'citations': 1}], 'matching': 1, 'replies': 0}, 'peak': 1421257559, 'impressions': 2695, 'momentum': 1}\n",
      "\n",
      "--------------------------------------------------\n",
      "highlight:\n",
      "LeGarrette Blount does the Ray Lewis Dance #ThrowbackThursday https://t.co/F5FX5KVmdX\n",
      "Hope to see it at least 3 times tomorrow. \n",
      "#GoPatriots\n",
      "\n",
      "--------------------------------------------------\n",
      "type:\n",
      "retweet:native\n",
      "\n",
      "--------------------------------------------------\n",
      "citation_url:\n",
      "http://twitter.com/Patsnation87/status/555420502970609664\n"
     ]
    }
   ],
   "source": [
    "# Explore and Test Key of Data\n",
    "with open(tweetFiles[3], 'r', encoding=\"utf8\") as file:\n",
    "    first_line = file.readline()\n",
    "    json_obj = json.loads(first_line)\n",
    "\n",
    "    print('=' * 50)\n",
    "    for key in json_obj:\n",
    "        print(key)\n",
    "    \n",
    "    for key in json_obj:\n",
    "        print('\\n' + '-' * 50)\n",
    "        print(key + ':')\n",
    "        print(json_obj[key]) "
   ]
  },
  {
   "cell_type": "markdown",
   "metadata": {
    "id": "wVLSG_-ZgfY4"
   },
   "source": [
    "# Question 27"
   ]
  },
  {
   "cell_type": "code",
   "execution_count": null,
   "metadata": {
    "id": "TbosS_qbqeXe"
   },
   "outputs": [],
   "source": [
    "max_time_seconds = {tweetFiles[0]: -1, \n",
    "                    tweetFiles[1]: -1, \n",
    "                    tweetFiles[2]: -1, \n",
    "                    tweetFiles[3]: -1, \n",
    "                    tweetFiles[4]: -1, \n",
    "                    tweetFiles[5]: -1}\n",
    "\n",
    "min_time_seconds = {tweetFiles[0]: -1, \n",
    "                    tweetFiles[1]: -1, \n",
    "                    tweetFiles[2]: -1, \n",
    "                    tweetFiles[3]: -1, \n",
    "                    tweetFiles[4]: -1, \n",
    "                    tweetFiles[5]: -1}"
   ]
  },
  {
   "cell_type": "code",
   "execution_count": null,
   "metadata": {
    "id": "fiA1pxNGdCrL"
   },
   "outputs": [],
   "source": [
    "def report(tweetFile):\n",
    "    with open(tweetFile, 'r', encoding=\"utf8\") as file:\n",
    "        lines = file.readlines()\n",
    "    \n",
    "    num_tweets = 0\n",
    "    time_seconds, num_followers, num_retweets = [], [], []\n",
    "    for line in lines:\n",
    "        json_object = json.loads(line)\n",
    "        num_tweets += 1\n",
    "        time_seconds.append(json_object['citation_date'])\n",
    "        num_followers.append(json_object['author']['followers'])\n",
    "        num_retweets.append(json_object['metrics']['citations']['total'])\n",
    "    \n",
    "    max_time_seconds[tweetFile] = max(time_seconds)\n",
    "    min_time_seconds[tweetFile] = min(time_seconds)\n",
    "\n",
    "    print(\"Statistics of {}\".format(tweetFile))\n",
    "    print(\"Average number of tweets per hour: {}\".format(num_tweets / ((max_time_seconds[tweetFile]-min_time_seconds[tweetFile]) / (60*60))))\n",
    "    print(\"Average number of followers of users posting the tweets per tweet: {}\".format(sum(num_followers) / num_tweets))\n",
    "    print(\"Average number of retweets per tweet: {}\".format(sum(num_retweets) / num_tweets))\n",
    "    print('') "
   ]
  },
  {
   "cell_type": "code",
   "execution_count": null,
   "metadata": {
    "colab": {
     "base_uri": "https://localhost:8080/"
    },
    "id": "5si97BLYdJzD",
    "outputId": "ca38499c-3c59-4dcb-b20c-a2faa1d8d64e"
   },
   "outputs": [
    {
     "name": "stdout",
     "output_type": "stream",
     "text": [
      "Statistics of ./ECE219_tweet_data/tweets_#superbowl.txt\n",
      "Average number of tweets per hour: 2072.11840170408\n",
      "Average number of followers of users posting the tweets per tweet: 8814.96799424623\n",
      "Average number of retweets per tweet: 2.3911895819207736\n",
      "\n",
      "Statistics of ./ECE219_tweet_data/tweets_#nfl.txt\n",
      "Average number of tweets per hour: 397.0213901819841\n",
      "Average number of followers of users posting the tweets per tweet: 4662.37544523693\n",
      "Average number of retweets per tweet: 1.5344602655543254\n",
      "\n",
      "Statistics of ./ECE219_tweet_data/tweets_#gohawks.txt\n",
      "Average number of tweets per hour: 292.48785062173687\n",
      "Average number of followers of users posting the tweets per tweet: 2217.9237355281984\n",
      "Average number of retweets per tweet: 2.0132093991319877\n",
      "\n",
      "Statistics of ./ECE219_tweet_data/tweets_#gopatriots.txt\n",
      "Average number of tweets per hour: 40.95469800606194\n",
      "Average number of followers of users posting the tweets per tweet: 1427.2526051635405\n",
      "Average number of retweets per tweet: 1.4081919101697078\n",
      "\n",
      "Statistics of ./ECE219_tweet_data/tweets_#patriots.txt\n",
      "Average number of tweets per hour: 750.89426460689\n",
      "Average number of followers of users posting the tweets per tweet: 3280.4635616550277\n",
      "Average number of retweets per tweet: 1.7852871288476946\n",
      "\n",
      "Statistics of ./ECE219_tweet_data/tweets_#sb49.txt\n",
      "Average number of tweets per hour: 1276.8570598680474\n",
      "Average number of followers of users posting the tweets per tweet: 10374.160292019487\n",
      "Average number of retweets per tweet: 2.52713444111402\n",
      "\n"
     ]
    }
   ],
   "source": [
    "for tweetFile in tweetFiles:\n",
    "    report(tweetFile)"
   ]
  },
  {
   "cell_type": "markdown",
   "metadata": {
    "id": "C86tmrTqt_5P"
   },
   "source": [
    "# Question 28"
   ]
  },
  {
   "cell_type": "code",
   "execution_count": null,
   "metadata": {
    "id": "K0D2KVs2j8p4"
   },
   "outputs": [],
   "source": [
    "def plot_tweets_hour(tweetFile, title):\n",
    "    with open(tweetFile, 'r', encoding=\"utf8\") as file:\n",
    "        lines = file.readlines()\n",
    "    \n",
    "    max_seconds = max_time_seconds[tweetFile]\n",
    "    min_seconds = min_time_seconds[tweetFile]\n",
    "\n",
    "    total_hours = int((max_seconds-min_seconds) / (60*60) + 1)\n",
    "    x = range(total_hours)\n",
    "    y = [0] * total_hours\n",
    "\n",
    "    for line in lines:\n",
    "        json_object = json.loads(line)\n",
    "        y[int((json_object['citation_date']-min_seconds) / (60*60))] += 1\n",
    "\n",
    "    plt.title(\"Number of Tweets in hours of \" + title)\n",
    "    plt.bar(x, y, 1)\n",
    "    plt.xlabel(\"Hours over Time\")\n",
    "    plt.ylabel(\"Number of Tweets\")\n",
    "    plt.gcf().set_size_inches(10, 7)\n",
    "    plt.show()"
   ]
  },
  {
   "cell_type": "markdown",
   "metadata": {
    "id": "6Y1jOGeGuCh2"
   },
   "source": [
    "- #SuperBowl"
   ]
  },
  {
   "cell_type": "code",
   "execution_count": null,
   "metadata": {
    "colab": {
     "base_uri": "https://localhost:8080/",
     "height": 458
    },
    "id": "ZXJ7hwv6neBZ",
    "outputId": "23137554-45f5-49e6-cce6-a235be1384f5"
   },
   "outputs": [
    {
     "data": {
      "image/png": "[encoded data removed]",
      "text/plain": [
       "<Figure size 720x504 with 1 Axes>"
      ]
     },
     "metadata": {
      "needs_background": "light"
     },
     "output_type": "display_data"
    }
   ],
   "source": [
    "plot_tweets_hour(tweetFiles[0], \"#SuperBowl\")"
   ]
  },
  {
   "cell_type": "markdown",
   "metadata": {
    "id": "XWUp5pR8uHQN"
   },
   "source": [
    "- #NFL"
   ]
  },
  {
   "cell_type": "code",
   "execution_count": null,
   "metadata": {
    "colab": {
     "base_uri": "https://localhost:8080/",
     "height": 458
    },
    "id": "M-gcxu-2nmV5",
    "outputId": "e0f18ca7-4555-4f40-e6c2-0df6568c9a30"
   },
   "outputs": [
    {
     "data": {
      "image/png": "[encoded data removed]",
      "text/plain": [
       "<Figure size 720x504 with 1 Axes>"
      ]
     },
     "metadata": {
      "needs_background": "light"
     },
     "output_type": "display_data"
    }
   ],
   "source": [
    "plot_tweets_hour(tweetFiles[1], \"#NFL\")"
   ]
  },
  {
   "cell_type": "markdown",
   "metadata": {
    "id": "tayLDDJEAT1A"
   },
   "source": [
    "# Question 29"
   ]
  },
  {
   "cell_type": "markdown",
   "metadata": {
    "id": "evowPAErU6ik"
   },
   "source": [
    "- Describe out task: Library of Prediction Tasks given a tweet\n",
    "\n",
    "1. Predict the hashtags. \n",
    "2. Predict the number of retweets.\n",
    "3. Predict the number of likes.\n",
    "4. Predict the number of quotes.\n",
    "5. Predict the relative(UNIX) time when a tweet was posted.\n",
    "6. Creativity - Predict the number of followers of the person tweeting."
   ]
  },
  {
   "cell_type": "markdown",
   "metadata": {
    "id": "1wyWQ9hKVmW4"
   },
   "source": [
    "- Explore the data\n",
    "\n",
    "1. Because all the six datasets are too big and we don't have great resource of devices, we decide to choose the tweets posted during the Superbowl competition, 1367089 samples.\n",
    "2. Superbowl Start Time we chose: 1422831600, 02/01/2015 3:00 pm PST\n",
    "3. Superbowl End Time we chose:   1422849600, 02/01/2015 8:00 pm PST\n",
    "4. Split into the training data 80%, 1093671 samples, and the testing data 20%, 273418 samples."
   ]
  },
  {
   "cell_type": "markdown",
   "metadata": {
    "id": "cPuTufiCbnJa"
   },
   "source": [
    "- Extract features\n",
    "1. Extract the text data in the tweet. After cleaning, we use lemmatization or stemming (we will compare the results of these two). - Project1\n",
    "2. Notice that the hashtags in the text will be removed by both lemmatization or stemming, so it will not be included in the features.\n",
    "3. Use the Vectorizer and TfidfTransformer to convert the text to value. - Project1\n",
    "4. Use TruncatedSVD to do dimensionality recudtion, dim: 4700 -> 150. Because of the resource of our devices, the limitation is 150. If we can do more than 150, the performance may increase. - Project1\n",
    "5. Extract other features which will be useful, e.g. retweets_count, likes_count, quotes_count, followers_count, relative_time. It is because we think that they all may have positive correlation. At some specific time, for example: scoring, the retweet or likes counts will also increase."
   ]
  },
  {
   "cell_type": "code",
   "execution_count": null,
   "metadata": {
    "id": "huJj0BYTNkch"
   },
   "outputs": [],
   "source": [
    "# Superbowl Start Time: 1422833400 02/01/2015 3:30 pm PST\n",
    "# Superbowl End Time:   1422846420 02/01/2015 7:07 pm PST\n",
    "\n",
    "# Superbowl Start Time: 1422831600 02/01/2015 3:00 pm PST\n",
    "# Superbowl End Time:   1422849600 02/01/2015 8:00 pm PST"
   ]
  },
  {
   "cell_type": "code",
   "execution_count": null,
   "metadata": {
    "id": "L5rPQGm3Dc22"
   },
   "outputs": [],
   "source": [
    "hashtags_labels = {0: '#superbowl', 1: '#nfl', 2: '#gohawks', 3: '#gopatriots', 4: '#patriots', 5: '#sb49'}\n",
    "superbowl_time = {'start': 1422831600, 'end': 1422849600}\n",
    "\n",
    "# Extract features\n",
    "def extractData(tweetFiles):\n",
    "    data = []\n",
    "    y = []\n",
    "    y_retweet = []\n",
    "    y_like = []\n",
    "    y_quote = []\n",
    "    y_time = []\n",
    "    follower_1 = []\n",
    "    follower_2 = []\n",
    "    \n",
    "    for index, tweetFile in enumerate(tweetFiles):\n",
    "        with open(tweetFile, 'r', encoding=\"utf8\") as file:\n",
    "            lines = file.readlines()\n",
    "            for line in lines:\n",
    "                json_object = json.loads(line)\n",
    "                time = json_object['citation_date']\n",
    "                if time < superbowl_time['start'] or time > superbowl_time['end']:\n",
    "                    continue\n",
    "                text = json_object['tweet']['text'].lower()\n",
    "                retweet = json_object['tweet']['retweet_count']\n",
    "                like = json_object['tweet']['favorite_count']\n",
    "                quote = json_object['metrics']['citations']['total']\n",
    "                follower1 = json_object['author']['followers']\n",
    "                follower2 = json_object['tweet']['user']['followers_count']\n",
    "\n",
    "                data.append(text)\n",
    "                y.append(index)\n",
    "                y_retweet.append(retweet)\n",
    "                y_like.append(like)\n",
    "                y_quote.append(quote)\n",
    "                y_time.append(time - superbowl_time['start'])\n",
    "                follower_1.append(follower1)\n",
    "                follower_2.append(follower2)\n",
    "                      \n",
    "    return np.array(data), np.array(y), np.array(y_retweet).astype('float64'), np.array(y_like).astype('float64'), np.array(y_quote).astype('float64'), np.array(y_time).astype('float64'), np.array(follower_1).astype('float64'), np.array(follower_2).astype('float64')"
   ]
  },
  {
   "cell_type": "code",
   "execution_count": null,
   "metadata": {
    "id": "Co2O8ip2Fgg7"
   },
   "outputs": [],
   "source": [
    "data, y, y_retweet, y_like, y_quote, y_time, follower_1, follower_2 = extractData(tweetFiles)"
   ]
  },
  {
   "cell_type": "code",
   "execution_count": null,
   "metadata": {
    "colab": {
     "base_uri": "https://localhost:8080/"
    },
    "id": "eYflu1A1S58c",
    "outputId": "68a9e843-a2bf-4156-80ae-62c64a263769"
   },
   "outputs": [
    {
     "name": "stdout",
     "output_type": "stream",
     "text": [
      "(1367089,)\n",
      "(1367089,)\n"
     ]
    }
   ],
   "source": [
    "print(data.shape)\n",
    "print(y.shape)"
   ]
  },
  {
   "cell_type": "code",
   "execution_count": null,
   "metadata": {
    "id": "63SJp7XZr5Tr"
   },
   "outputs": [],
   "source": [
    "# Save\n",
    "pd.DataFrame(data).to_csv(\"./ECE219_tweet_data/data.csv\", header=None, index=None)\n",
    "\n",
    "pd.DataFrame(y).to_csv(\"./ECE219_tweet_data/y.csv\", header=None, index=None)\n",
    "\n",
    "pd.DataFrame(y_retweet).to_csv(\"./ECE219_tweet_data/y_retweet.csv\", header=None, index=None)\n",
    "\n",
    "pd.DataFrame(y_like).to_csv(\"./ECE219_tweet_data/y_like.csv\", header=None, index=None)\n",
    "\n",
    "pd.DataFrame(y_quote).to_csv(\"./ECE219_tweet_data/y_quote.csv\", header=None, index=None)\n",
    "\n",
    "pd.DataFrame(y_time).to_csv(\"./ECE219_tweet_data/y_time.csv\", header=None, index=None)\n",
    "\n",
    "pd.DataFrame(follower_1).to_csv(\"./ECE219_tweet_data/follower_1.csv\", header=None, index=None)\n",
    "\n",
    "pd.DataFrame(follower_2).to_csv(\"./ECE219_tweet_data/follower_2.csv\", header=None, index=None)"
   ]
  },
  {
   "cell_type": "code",
   "execution_count": null,
   "metadata": {
    "id": "ZaD4rC2YHKZR"
   },
   "outputs": [],
   "source": [
    "X_train, X_test, y_train, y_test, y_retweet_train, y_retweet_test, y_like_train, y_like_test, y_quote_train, y_quote_test, y_time_train, y_time_test, follower_1_train, follower_1_test, follower_2_train, follower_2_test = train_test_split(data, y, y_retweet, y_like, y_quote, y_time, follower_1, follower_2, test_size=0.2, random_state=42, shuffle=True)"
   ]
  },
  {
   "cell_type": "code",
   "execution_count": null,
   "metadata": {
    "colab": {
     "base_uri": "https://localhost:8080/"
    },
    "id": "PyceZTIIXsgw",
    "outputId": "62100c5b-c885-496b-dd38-7dec7a804919"
   },
   "outputs": [
    {
     "name": "stdout",
     "output_type": "stream",
     "text": [
      "X: training samples = 1093671\n",
      "X: test samples = 273418\n",
      "y: training samples = 1093671\n",
      "y: test samples = 273418\n"
     ]
    }
   ],
   "source": [
    "print(\"X: training samples = \"+str(len(X_train))+\"\\n\"+\"X: test samples = \"+str(len(X_test)))\n",
    "print(\"y: training samples = \"+str(len(y_train))+\"\\n\"+\"y: test samples = \"+str(len(y_test)))"
   ]
  },
  {
   "cell_type": "code",
   "execution_count": null,
   "metadata": {
    "id": "ZCvHcHisoij-"
   },
   "outputs": [],
   "source": [
    "# Save\n",
    "pd.DataFrame(X_train).to_csv(\"./ECE219_tweet_data/X_train.csv\", header=None, index=None)\n",
    "pd.DataFrame(X_test).to_csv(\"./ECE219_tweet_data/X_test.csv\", header=None, index=None)\n",
    "\n",
    "pd.DataFrame(y_train).to_csv(\"./ECE219_tweet_data/y_train.csv\", header=None, index=None)\n",
    "pd.DataFrame(y_test).to_csv(\"./ECE219_tweet_data/y_test.csv\", header=None, index=None)\n",
    "\n",
    "pd.DataFrame(y_retweet_train).to_csv(\"./ECE219_tweet_data/y_retweet_train.csv\", header=None, index=None)\n",
    "pd.DataFrame(y_retweet_test).to_csv(\"./ECE219_tweet_data/y_retweet_test.csv\", header=None, index=None)\n",
    "\n",
    "pd.DataFrame(y_like_train).to_csv(\"./ECE219_tweet_data/y_like_train.csv\", header=None, index=None)\n",
    "pd.DataFrame(y_like_test).to_csv(\"./ECE219_tweet_data/y_like_test.csv\", header=None, index=None)\n",
    "\n",
    "pd.DataFrame(y_quote_train).to_csv(\"./ECE219_tweet_data/y_quote_train.csv\", header=None, index=None)\n",
    "pd.DataFrame(y_quote_test).to_csv(\"./ECE219_tweet_data/y_quote_test.csv\", header=None, index=None)\n",
    "\n",
    "pd.DataFrame(y_time_train).to_csv(\"./ECE219_tweet_data/y_time_train.csv\", header=None, index=None)\n",
    "pd.DataFrame(y_time_test).to_csv(\"./ECE219_tweet_data/y_time_test.csv\", header=None, index=None)\n",
    "\n",
    "pd.DataFrame(follower_1_train).to_csv(\"./ECE219_tweet_data/follower_1_train.csv\", header=None, index=None)\n",
    "pd.DataFrame(follower_1_test).to_csv(\"./ECE219_tweet_data/follower_1_test.csv\", header=None, index=None)\n",
    "\n",
    "pd.DataFrame(follower_2_train).to_csv(\"./ECE219_tweet_data/follower_2_train.csv\", header=None, index=None)\n",
    "pd.DataFrame(follower_2_test).to_csv(\"./ECE219_tweet_data/follower_2_test.csv\", header=None, index=None)"
   ]
  },
  {
   "cell_type": "code",
   "execution_count": null,
   "metadata": {
    "id": "No-amlqTgXRE"
   },
   "outputs": [],
   "source": [
    "###Cleaning Preprocessor\n",
    "#Cleans the data, removes raw input other than text\n",
    "def clean(text):\n",
    "    text = re.sub(r'^https?:\\/\\/.*[\\r\\n]*', '', text, flags=re.MULTILINE)\n",
    "    text = re.sub(r'https?:\\/\\/.*[\\r\\n]*', '', text, flags=re.MULTILINE)\n",
    "    text = re.sub(r'www.*[\\r\\n]*', '', text, flags=re.MULTILINE)\n",
    "    text = re.sub(r'\\S*@\\S*\\s?', '', text, flags=re.MULTILINE) #remove email address\n",
    "    text=re.sub(r'\\w*\\d+\\w*', '', text).strip() #remove any word with numbers\n",
    "    texter = re.sub(r\"<br />\", \" \", text)\n",
    "    texter = re.sub(r\"&quot;\", \"\\\"\",texter)\n",
    "    texter = re.sub('&#39;', \"\\\"\", texter)\n",
    "    texter = re.sub('\\n', \" \", texter)\n",
    "    texter = re.sub('\\__', \"\", texter)\n",
    "    texter = re.sub('\\|', \"\", texter)\n",
    "    texter = re.sub('\\/', \" \", texter)\n",
    "    texter = re.sub('--', \"\", texter)\n",
    "    texter = re.sub(r'\\d+', '', texter) #remove word with just numbers\n",
    "    texter = re.sub(' u ',\" you \", texter)\n",
    "    texter = re.sub(' +', ' ', texter)\n",
    "    texter = re.sub(r\"(!)\\1+\", r\"!\", texter)\n",
    "    texter = re.sub(r\"(\\?)\\1+\", r\"?\", texter)\n",
    "    texter = re.sub(' &amp; ', ' and ', texter)\n",
    "    texter = re.sub('\\r', ' ',texter)\n",
    "    clean = re.compile('<.*?>')\n",
    "    texter = texter.encode('ascii', 'ignore').decode('ascii')\n",
    "    texter = re.sub(clean, '', texter)\n",
    "    if texter == \"\":\n",
    "        texter = \"\"\n",
    "    return texter\n",
    "\n",
    "#get word pos\n",
    "def get_wordnet_pos(word):\n",
    "    tag = nltk.pos_tag([word])[0][1][0].upper()\n",
    "    tag_dict = {\"J\": wordnet.ADJ,\n",
    "                \"N\": wordnet.NOUN,\n",
    "                \"V\": wordnet.VERB,\n",
    "                \"R\": wordnet.ADV}\n",
    "\n",
    "    return tag_dict.get(tag, wordnet.NOUN)\n",
    "\n",
    "#construct vocabulary\n",
    "stop_words_scikit = text.ENGLISH_STOP_WORDS\n",
    "stop_words_nltk = stopwords.words('english')\n",
    "stop_words = set.union(set(stop_words_scikit),set(stop_words_nltk),set(punctuation))\n",
    "\n",
    "english_vocab = set(w.lower() for w in nltk.corpus.words.words())"
   ]
  },
  {
   "cell_type": "code",
   "execution_count": null,
   "metadata": {
    "id": "pnxGxCuLgYHA"
   },
   "outputs": [],
   "source": [
    "###Lemmatization & Stemming (Reference: https://www.machinelearningplus.com/nlp/lemmatization-examples-python/)\n",
    "#Check each word inside each of the full_text corpus, makes words lower-case, removes non-English words\n",
    "#converts words to its simplest form i.e plural to singluar, etc using lemmatizer\n",
    "#appends that word, joins them into a sentence and adds it to lemmatized_full_text\n",
    "\n",
    "cleaned_X_train = []\n",
    "cleaned_X_test = []\n",
    "\n",
    "for row in range(X_train.shape[0]):\n",
    "    cleaned_X_train.append(clean(X_train[row]))\n",
    "\n",
    "for row in range(X_test.shape[0]):\n",
    "    cleaned_X_test.append(clean(X_test[row]))\n",
    "\n",
    "lemmatizer = WordNetLemmatizer().lemmatize\n",
    "ls = LS()\n",
    "\n",
    "lemmatized_X_train = []\n",
    "lemmatized_X_test = []\n",
    "stemmed_X_train = []\n",
    "stemmed_X_test = []\n",
    "\n",
    "for full_text in cleaned_X_train:\n",
    "    wordlist_lemmatized = []\n",
    "    wordlist_stemmed = []\n",
    "    for word in nltk.word_tokenize(full_text):\n",
    "        word=word.lower()\n",
    "        if (word in english_vocab) and word.isalpha() and ((word in stop_words) == False):\n",
    "            wordlist_lemmatized.append(lemmatizer(word, get_wordnet_pos(word)))\n",
    "            wordlist_stemmed.append(ls.stem(word))\n",
    "    lemmatized_X_train.append(' '.join(wordlist_lemmatized))\n",
    "    stemmed_X_train.append(' '.join(wordlist_stemmed))\n",
    "\n",
    "for full_text in cleaned_X_test:\n",
    "    wordlist_lemmatized = []\n",
    "    wordlist_stemmed = []\n",
    "    for word in nltk.word_tokenize(full_text):\n",
    "        word=word.lower()\n",
    "        if (word in english_vocab) and word.isalpha() and ((word in stop_words) == False):\n",
    "            wordlist_lemmatized.append(lemmatizer(word, get_wordnet_pos(word)))\n",
    "            wordlist_stemmed.append(ls.stem(word))\n",
    "    lemmatized_X_test.append(' '.join(wordlist_lemmatized))\n",
    "    stemmed_X_test.append(' '.join(wordlist_stemmed))"
   ]
  },
  {
   "cell_type": "code",
   "execution_count": null,
   "metadata": {
    "id": "ZyocF6fD2ljE"
   },
   "outputs": [],
   "source": [
    "# Save\n",
    "with open(\"./ECE219_tweet_data/lemmatized_X_train.csv\", 'w') as f:\n",
    "    write = csv.writer(f)\n",
    "    write.writerows(lemmatized_X_train)\n",
    "\n",
    "with open(\"./ECE219_tweet_data/lemmatized_X_test.csv\", 'w') as f:\n",
    "    write = csv.writer(f)\n",
    "    write.writerows(lemmatized_X_test)\n",
    "\n",
    "with open(\"./ECE219_tweet_data/stemmed_X_train.csv\", 'w') as f:\n",
    "    write = csv.writer(f)\n",
    "    write.writerows(stemmed_X_train)\n",
    "\n",
    "with open(\"./ECE219_tweet_data/stemmed_X_test.csv\", 'w') as f:\n",
    "    write = csv.writer(f)\n",
    "    write.writerows(stemmed_X_test)\n",
    "\n",
    "with open(\"./ECE219_tweet_data/cleaned_X_train.csv\", 'w') as f:\n",
    "    write = csv.writer(f)\n",
    "    write.writerows(cleaned_X_train)\n",
    "\n",
    "with open(\"./ECE219_tweet_data/cleaned_X_test.csv\", 'w') as f:\n",
    "    write = csv.writer(f)\n",
    "    write.writerows(cleaned_X_test)"
   ]
  },
  {
   "cell_type": "code",
   "execution_count": null,
   "metadata": {
    "id": "Sf3gLmpqRmam"
   },
   "outputs": [],
   "source": [
    "# lemmatized\n",
    "tfidf_vectorizer = TfidfVectorizer(min_df=30, stop_words='english')\n",
    "\n",
    "X_train_tfidf = tfidf_vectorizer.fit_transform(cudf.Series(lemmatized_X_train)).toarray()\n",
    "X_test_tfidf = tfidf_vectorizer.transform(cudf.Series(lemmatized_X_test)).toarray()"
   ]
  },
  {
   "cell_type": "code",
   "execution_count": null,
   "metadata": {
    "id": "SjI0PMz0Rq9A"
   },
   "outputs": [],
   "source": [
    "# # stemmed\n",
    "# tfidf_vectorizer = TfidfVectorizer(min_df=30, stop_words='english')\n",
    "\n",
    "# X_train_tfidf = tfidf_vectorizer.fit_transform(cudf.Series(stemmed_X_train)).toarray()\n",
    "# X_test_tfidf = tfidf_vectorizer.transform(cudf.Series(stemmed_X_test)).toarray()"
   ]
  },
  {
   "cell_type": "code",
   "execution_count": null,
   "metadata": {
    "id": "lSEls3qFWRFs"
   },
   "outputs": [],
   "source": [
    "# LSI\n",
    "svd = TruncatedSVD(n_components = 150, random_state = 42)\n",
    "X_train_lsi = svd.fit_transform(X_train_tfidf)\n",
    "X_test_lsi = svd.transform(X_test_tfidf)"
   ]
  },
  {
   "cell_type": "code",
   "execution_count": null,
   "metadata": {
    "id": "NJd7HF5zK-k5"
   },
   "outputs": [],
   "source": [
    "# Save - lemmatized\n",
    "pd.DataFrame(X_train_lsi).to_csv(\"./ECE219_tweet_data/X_train_lsi.csv\", header=None, index=None)\n",
    "\n",
    "pd.DataFrame(X_test_lsi).to_csv(\"./ECE219_tweet_data/X_test_lsi.csv\", header=None, index=None)"
   ]
  },
  {
   "cell_type": "code",
   "execution_count": null,
   "metadata": {
    "id": "aCtE3GvcEY0r"
   },
   "outputs": [],
   "source": [
    "# # Save - stemmed\n",
    "# pd.DataFrame(X_train_lsi).to_csv(\"./ECE219_tweet_data/X_train_lsi_stemmed.csv\", header=None, index=None)\n",
    "\n",
    "# pd.DataFrame(X_test_lsi).to_csv(\"./ECE219_tweet_data/X_test_lsi_stemmed.csv\", header=None, index=None)"
   ]
  },
  {
   "cell_type": "code",
   "execution_count": null,
   "metadata": {
    "id": "-SFNRQxwLLXG"
   },
   "outputs": [],
   "source": [
    "# Load - lemmatized\n",
    "X_train_lsi = pd.read_csv(\"./ECE219_tweet_data/X_train_lsi.csv\", header=None)\n",
    "X_train_lsi = X_train_lsi.to_numpy()\n",
    "\n",
    "X_test_lsi = pd.read_csv(\"./ECE219_tweet_data/X_test_lsi.csv\", header=None)\n",
    "X_test_lsi = X_test_lsi.to_numpy()"
   ]
  },
  {
   "cell_type": "code",
   "execution_count": null,
   "metadata": {
    "id": "T8U1TM0VSMpy"
   },
   "outputs": [],
   "source": [
    "# # Load - stemmed\n",
    "# X_train_lsi = pd.read_csv(\"./ECE219_tweet_data/X_train_lsi_stemmed.csv\", header=None)\n",
    "# X_train_lsi = X_train_lsi.to_numpy()\n",
    "\n",
    "# X_test_lsi = pd.read_csv(\"./ECE219_tweet_data/X_test_lsi_stemmed.csv\", header=None)\n",
    "# X_test_lsi = X_test_lsi.to_numpy()"
   ]
  },
  {
   "cell_type": "code",
   "execution_count": null,
   "metadata": {
    "colab": {
     "base_uri": "https://localhost:8080/"
    },
    "id": "5742AN1CF-Pa",
    "outputId": "3f1dc9cb-91c5-48c4-f29e-ca012592a348"
   },
   "outputs": [
    {
     "name": "stdout",
     "output_type": "stream",
     "text": [
      "(1093671, 150)\n",
      "(273418, 150)\n"
     ]
    }
   ],
   "source": [
    "print(X_train_lsi.shape)\n",
    "print(X_test_lsi.shape)"
   ]
  },
  {
   "cell_type": "code",
   "execution_count": null,
   "metadata": {
    "id": "Fs4_UgTaSjd9"
   },
   "outputs": [],
   "source": [
    "# Load\n",
    "y = pd.read_csv(\"./ECE219_tweet_data/y.csv\", header=None).to_numpy().ravel()\n",
    "y_train = pd.read_csv(\"./ECE219_tweet_data/y_train.csv\", header=None).to_numpy().ravel()\n",
    "y_test = pd.read_csv(\"./ECE219_tweet_data/y_test.csv\", header=None).to_numpy().ravel()\n",
    "\n",
    "y_retweet = pd.read_csv(\"./ECE219_tweet_data/y_retweet.csv\", header=None).to_numpy().ravel().astype('float64')\n",
    "y_retweet_train = pd.read_csv(\"./ECE219_tweet_data/y_retweet_train.csv\", header=None).to_numpy().ravel().astype('float64')\n",
    "y_retweet_test = pd.read_csv(\"./ECE219_tweet_data/y_retweet_test.csv\", header=None).to_numpy().ravel().astype('float64')\n",
    "\n",
    "y_like = pd.read_csv(\"./ECE219_tweet_data/y_like.csv\", header=None).to_numpy().ravel().astype('float64')\n",
    "y_like_train = pd.read_csv(\"./ECE219_tweet_data/y_like_train.csv\", header=None).to_numpy().ravel().astype('float64')\n",
    "y_like_test = pd.read_csv(\"./ECE219_tweet_data/y_like_test.csv\", header=None).to_numpy().ravel().astype('float64')\n",
    "\n",
    "y_quote = pd.read_csv(\"./ECE219_tweet_data/y_quote.csv\", header=None).to_numpy().ravel().astype('float64')\n",
    "y_quote_train = pd.read_csv(\"./ECE219_tweet_data/y_quote_train.csv\", header=None).to_numpy().ravel().astype('float64')\n",
    "y_quote_test = pd.read_csv(\"./ECE219_tweet_data/y_quote_test.csv\", header=None).to_numpy().ravel().astype('float64')\n",
    "\n",
    "y_time = pd.read_csv(\"./ECE219_tweet_data/y_time.csv\", header=None).to_numpy().ravel().astype('float64')\n",
    "y_time_train = pd.read_csv(\"./ECE219_tweet_data/y_time_train.csv\", header=None).to_numpy().ravel().astype('float64')\n",
    "y_time_test = pd.read_csv(\"./ECE219_tweet_data/y_time_test.csv\", header=None).to_numpy().ravel().astype('float64')\n",
    "\n",
    "follower_1 = pd.read_csv(\"./ECE219_tweet_data/follower_1.csv\", header=None).to_numpy().ravel().astype('float64')\n",
    "follower_1_train = pd.read_csv(\"./ECE219_tweet_data/follower_1_train.csv\", header=None).to_numpy().ravel().astype('float64')\n",
    "follower_1_test = pd.read_csv(\"./ECE219_tweet_data/follower_1_test.csv\", header=None).to_numpy().ravel().astype('float64')\n",
    "\n",
    "follower_2 = pd.read_csv(\"./ECE219_tweet_data/follower_2.csv\", header=None).to_numpy().ravel().astype('float64')\n",
    "follower_2_train = pd.read_csv(\"./ECE219_tweet_data/follower_2_train.csv\", header=None).to_numpy().ravel().astype('float64')\n",
    "follower_2_test = pd.read_csv(\"./ECE219_tweet_data/follower_2_test.csv\", header=None).to_numpy().ravel().astype('float64')"
   ]
  },
  {
   "cell_type": "markdown",
   "metadata": {
    "id": "dD9PkCWWhgG-"
   },
   "source": [
    "# Predict the Hashtags"
   ]
  },
  {
   "cell_type": "code",
   "execution_count": null,
   "metadata": {
    "id": "eLc7oX3iFml4"
   },
   "outputs": [],
   "source": [
    "def plt_confusion_matrix(y_test, pred_test, txt):\n",
    "    cmx_data = confusion_matrix(y_test, pred_test) \n",
    "    df_cmx = pd.DataFrame(cmx_data)\n",
    "    sns.heatmap(df_cmx, fmt='d', annot=True, square=True)\n",
    "    plt.title('Confusion Matrix for ' + txt)  \n",
    "    plt.xlabel('Predicted Category')\n",
    "    plt.ylabel('True Category')\n",
    "    plt.show()\n",
    "\n",
    "def arpf(y_test, pred_test):\n",
    "    print(\"Accuracy of the testing data: \" + str(accuracy_score(y_test, pred_test)))\n",
    "    print(\"Recall of the testing data: \" + str(recall_score(y_test, pred_test, average='micro')))\n",
    "    print(\"Precision of the testing data: \" + str(precision_score(y_test, pred_test, average='micro')))\n",
    "    print(\"F-1 Score of the testing data: \" + str(f1_score(y_test, pred_test, average='micro')))  "
   ]
  },
  {
   "cell_type": "code",
   "execution_count": null,
   "metadata": {
    "id": "JydB0084MvYb"
   },
   "outputs": [],
   "source": [
    "X_train_lsi_hashtag = X_train_lsi\n",
    "X_test_lsi_hashtag = X_test_lsi"
   ]
  },
  {
   "cell_type": "code",
   "execution_count": null,
   "metadata": {
    "colab": {
     "base_uri": "https://localhost:8080/"
    },
    "id": "F6nM7D01gA9y",
    "outputId": "01a66135-3984-4e9d-b69a-5e345f0f7a40"
   },
   "outputs": [
    {
     "name": "stdout",
     "output_type": "stream",
     "text": [
      "Counter({0: 168593, 5: 61872, 4: 24471, 1: 7939, 2: 7817, 3: 2726})\n"
     ]
    }
   ],
   "source": [
    "print(Counter(y_test))"
   ]
  },
  {
   "cell_type": "markdown",
   "metadata": {
    "id": "gVxbF_DPgCR6"
   },
   "source": [
    "- Baseline of this model: the most number of the label / the total number of labels in the testing data\n",
    "- In our case, the number of label 0 / the total number of labels = 168593 / 273418 = 61.66%\n",
    "- Accuracy should be at least 61.66%"
   ]
  },
  {
   "cell_type": "markdown",
   "metadata": {
    "id": "cLvrg0YBfUEX"
   },
   "source": [
    "- Random Forest Classifier using Lemmatization"
   ]
  },
  {
   "cell_type": "code",
   "execution_count": null,
   "metadata": {
    "colab": {
     "base_uri": "https://localhost:8080/",
     "height": 366
    },
    "id": "McPEG4pw1PnU",
    "outputId": "b64c7247-6ea3-443f-9329-4d6de8098d71"
   },
   "outputs": [
    {
     "data": {
      "image/png": "[encoded data removed]",
      "text/plain": [
       "<Figure size 432x288 with 2 Axes>"
      ]
     },
     "metadata": {
      "needs_background": "light"
     },
     "output_type": "display_data"
    },
    {
     "name": "stdout",
     "output_type": "stream",
     "text": [
      "Accuracy of the testing data: 0.6718175101858692\n",
      "Recall of the testing data: 0.6718175101858692\n",
      "Precision of the testing data: 0.6718175101858692\n",
      "F-1 Score of the testing data: 0.6718175101858692\n"
     ]
    }
   ],
   "source": [
    "hashtag_model = cuRFC(n_estimators=200, \n",
    "                      split_criterion = 'gini', \n",
    "                      n_bins=1024, \n",
    "                      max_depth=16, \n",
    "                      max_features=1.0)\n",
    "\n",
    "hashtag_model.fit(X_train_lsi_hashtag, y_train)\n",
    "\n",
    "pred_test = hashtag_model.predict(X_test_lsi_hashtag)\n",
    "\n",
    "#confusion matrix\n",
    "plt_confusion_matrix(y_test, pred_test, 'Random Forest Classifier')\n",
    "\n",
    "#accuracy, recall, precision, F-1 Score\n",
    "arpf(y_test, pred_test)"
   ]
  },
  {
   "cell_type": "markdown",
   "metadata": {
    "id": "W6VAk5gMfywp"
   },
   "source": [
    "- Random Forest Classifier using Stemming"
   ]
  },
  {
   "cell_type": "code",
   "execution_count": null,
   "metadata": {
    "colab": {
     "base_uri": "https://localhost:8080/",
     "height": 366
    },
    "id": "T9LrrKQmfmyx",
    "outputId": "e64582df-dfd9-4794-c602-cf8de709241c"
   },
   "outputs": [
    {
     "data": {
      "image/png": "[encoded data removed]",
      "text/plain": [
       "<Figure size 432x288 with 2 Axes>"
      ]
     },
     "metadata": {
      "needs_background": "light"
     },
     "output_type": "display_data"
    },
    {
     "name": "stdout",
     "output_type": "stream",
     "text": [
      "Accuracy of the testing data: 0.6713457051108559\n",
      "Recall of the testing data: 0.6713457051108559\n",
      "Precision of the testing data: 0.6713457051108559\n",
      "F-1 Score of the testing data: 0.6713457051108559\n"
     ]
    }
   ],
   "source": [
    "hashtag_model = cuRFC(n_estimators=200, \n",
    "                      split_criterion = 'gini', \n",
    "                      n_bins=1024, \n",
    "                      max_depth=16, \n",
    "                      max_features=1.0)\n",
    "\n",
    "hashtag_model.fit(X_train_lsi_hashtag, y_train)\n",
    "\n",
    "pred_test = hashtag_model.predict(X_test_lsi_hashtag)\n",
    "\n",
    "#confusion matrix\n",
    "plt_confusion_matrix(y_test, pred_test, 'Random Forest Classifier')\n",
    "\n",
    "#accuracy, recall, precision, F-1 Score\n",
    "arpf(y_test, pred_test)"
   ]
  },
  {
   "cell_type": "markdown",
   "metadata": {
    "id": "EO73j17rfe3y"
   },
   "source": [
    "- SVM Classifier using Lemmatization"
   ]
  },
  {
   "cell_type": "code",
   "execution_count": null,
   "metadata": {
    "colab": {
     "base_uri": "https://localhost:8080/",
     "height": 366
    },
    "id": "TcUXbfzZv-Sv",
    "outputId": "24a31d52-55ed-4461-e505-c3debe730b6a"
   },
   "outputs": [
    {
     "data": {
      "image/png": "[encoded data removed]",
      "text/plain": [
       "<Figure size 432x288 with 2 Axes>"
      ]
     },
     "metadata": {
      "needs_background": "light"
     },
     "output_type": "display_data"
    },
    {
     "name": "stdout",
     "output_type": "stream",
     "text": [
      "Accuracy of the testing data: 0.6648026099232677\n",
      "Recall of the testing data: 0.6648026099232677\n",
      "Precision of the testing data: 0.6648026099232677\n",
      "F-1 Score of the testing data: 0.6648026099232677\n"
     ]
    }
   ],
   "source": [
    "clf = SVC(kernel='linear', C=0.1, max_iter=10000)\n",
    "clf.fit(X_train_lsi_hashtag, y_train)\n",
    "\n",
    "pred_test = clf.predict(X_test_lsi_hashtag)\n",
    "\n",
    "#confusion matrix\n",
    "plt_confusion_matrix(y_test, pred_test, 'SVM')\n",
    "\n",
    "#accuracy, recall, precision, F-1 Score\n",
    "arpf(y_test, pred_test)"
   ]
  },
  {
   "cell_type": "markdown",
   "metadata": {
    "id": "19MbGo-snz84"
   },
   "source": [
    "Conclusion:\n",
    "- Lemmatization vs. Stemming: We can see that there is no much difference on the performance. In the next parts, we will all use lemmatization.\n",
    "- Random Forest Classifier vs. SVM Classifier: Both are higher than our baseline. And, RFC is doing a little bit better."
   ]
  },
  {
   "cell_type": "markdown",
   "metadata": {
    "id": "ExHGRXiRhu-Q"
   },
   "source": [
    "# Predict the number of Retweets"
   ]
  },
  {
   "cell_type": "markdown",
   "metadata": {
    "id": "xVWMNtakEtM8"
   },
   "source": [
    "- In the next regression prediction parts, since the units of RMSE and MAE in each prediction are different. We will focus on r-squared score to be our baseline. The data we want to predict varies and some features may not have much correlation. So, the general baseline we decide: r-squared score >= 0.25"
   ]
  },
  {
   "cell_type": "markdown",
   "metadata": {
    "id": "91tGTz3c21Hl"
   },
   "source": [
    "- Adding normalized features of likes_count, quotes_count, time_count, and two kinds of followers_count "
   ]
  },
  {
   "cell_type": "code",
   "execution_count": null,
   "metadata": {
    "id": "brc9mNoFjNG7"
   },
   "outputs": [],
   "source": [
    "def rmse_mae(y_test, pred_test):\n",
    "    print(\"RMSE of the testing data: \", math.sqrt(mean_squared_error(y_test, pred_test)))\n",
    "    print(\"MAE of the testing data: \", mean_absolute_error(y_test, pred_test))\n",
    "    print(\"r-squared score of the testing data: \", r2_score(y_test, pred_test)) "
   ]
  },
  {
   "cell_type": "code",
   "execution_count": null,
   "metadata": {
    "id": "c50n8EtS4rad"
   },
   "outputs": [],
   "source": [
    "# Normalize the data which will be used as features in the latter parts of prediction\n",
    "y_retweet_train_norm = y_retweet_train / np.linalg.norm(y_retweet_train)\n",
    "y_retweet_test_norm = y_retweet_test / np.linalg.norm(y_retweet_test)\n",
    "\n",
    "y_like_train_norm = y_like_train / np.linalg.norm(y_like_train)\n",
    "y_like_test_norm = y_like_test / np.linalg.norm(y_like_test)\n",
    "\n",
    "y_quote_train_norm = y_quote_train / np.linalg.norm(y_quote_train)\n",
    "y_quote_test_norm = y_quote_test / np.linalg.norm(y_quote_test)\n",
    "\n",
    "y_time_train_norm = y_time_train / np.linalg.norm(y_time_train)\n",
    "y_time_test_norm = y_time_test / np.linalg.norm(y_time_test)\n",
    "\n",
    "follower_1_train_norm = follower_1_train / np.linalg.norm(follower_1_train)\n",
    "follower_1_test_norm = follower_1_test / np.linalg.norm(follower_1_test)\n",
    "\n",
    "follower_2_train_norm = follower_2_train / np.linalg.norm(follower_2_train)\n",
    "follower_2_test_norm = follower_2_test / np.linalg.norm(follower_2_test)"
   ]
  },
  {
   "cell_type": "code",
   "execution_count": null,
   "metadata": {
    "id": "0va4olBXsEHF"
   },
   "outputs": [],
   "source": [
    "# Adding the useful features\n",
    "X_train_lsi_retweet = X_train_lsi\n",
    "X_test_lsi_retweet = X_test_lsi\n",
    "\n",
    "X_train_lsi_retweet = np.concatenate((X_train_lsi_retweet, y_like_train_norm.reshape(y_like_train_norm.shape[0], 1)), axis=1)\n",
    "X_test_lsi_retweet = np.concatenate((X_test_lsi_retweet, y_like_test_norm.reshape(y_like_test_norm.shape[0], 1)), axis=1)\n",
    "\n",
    "X_train_lsi_retweet = np.concatenate((X_train_lsi_retweet, y_quote_train_norm.reshape(y_quote_train_norm.shape[0], 1)), axis=1)\n",
    "X_test_lsi_retweet = np.concatenate((X_test_lsi_retweet, y_quote_test_norm.reshape(y_quote_test_norm.shape[0], 1)), axis=1)\n",
    "\n",
    "X_train_lsi_retweet = np.concatenate((X_train_lsi_retweet, y_time_train_norm.reshape(y_time_train_norm.shape[0], 1)), axis=1)\n",
    "X_test_lsi_retweet = np.concatenate((X_test_lsi_retweet, y_time_test_norm.reshape(y_time_test_norm.shape[0], 1)), axis=1)\n",
    "\n",
    "X_train_lsi_retweet = np.concatenate((X_train_lsi_retweet, follower_1_train_norm.reshape(follower_1_train_norm.shape[0], 1)), axis=1)\n",
    "X_test_lsi_retweet = np.concatenate((X_test_lsi_retweet, follower_1_test_norm.reshape(follower_1_test_norm.shape[0], 1)), axis=1)\n",
    "\n",
    "X_train_lsi_retweet = np.concatenate((X_train_lsi_retweet, follower_2_train_norm.reshape(follower_2_train_norm.shape[0], 1)), axis=1)\n",
    "X_test_lsi_retweet = np.concatenate((X_test_lsi_retweet, follower_2_test_norm.reshape(follower_2_test_norm.shape[0], 1)), axis=1)"
   ]
  },
  {
   "cell_type": "code",
   "execution_count": null,
   "metadata": {
    "id": "WJCbkuobubqJ"
   },
   "outputs": [],
   "source": [
    "RMSE = []\n",
    "MAE = []\n",
    "r2 = []"
   ]
  },
  {
   "cell_type": "markdown",
   "metadata": {
    "id": "ce5GWX0XrSv5"
   },
   "source": [
    "- Linear Regression"
   ]
  },
  {
   "cell_type": "code",
   "execution_count": null,
   "metadata": {
    "colab": {
     "base_uri": "https://localhost:8080/"
    },
    "id": "nKOPUCs1qnmv",
    "outputId": "f593fae4-1b3f-4c15-dcb1-a28b4849e896"
   },
   "outputs": [
    {
     "name": "stdout",
     "output_type": "stream",
     "text": [
      "RMSE of the testing data:  5.644783864767152\n",
      "MAE of the testing data:  0.11503527150080936\n",
      "r-squared score of the testing data:  0.6546839532194542\n"
     ]
    }
   ],
   "source": [
    "lr = LinearRegression(fit_intercept = True, normalize = False,\n",
    "                      algorithm = 'svd')\n",
    "\n",
    "reg = lr.fit(X_train_lsi_retweet, y_retweet_train)\n",
    "\n",
    "reg_pred_test = reg.predict(X_test_lsi_retweet)\n",
    "rmse_mae(y_retweet_test, reg_pred_test)"
   ]
  },
  {
   "cell_type": "code",
   "execution_count": null,
   "metadata": {
    "id": "KpOIMmF8um8a"
   },
   "outputs": [],
   "source": [
    "RMSE.append(math.sqrt(mean_squared_error(y_retweet_test, reg_pred_test)))\n",
    "MAE.append(float(mean_absolute_error(y_retweet_test, reg_pred_test)))\n",
    "r2.append(r2_score(y_retweet_test, reg_pred_test))"
   ]
  },
  {
   "cell_type": "markdown",
   "metadata": {
    "id": "XgZ6PyKRrL80"
   },
   "source": [
    "- Random Forest Regressor"
   ]
  },
  {
   "cell_type": "code",
   "execution_count": null,
   "metadata": {
    "id": "KnWBLi5Hj1ri"
   },
   "outputs": [],
   "source": [
    "retweet_model = cuRFR(n_estimators=200,\n",
    "                      split_criterion='mse',\n",
    "                      n_bins=1024,\n",
    "                      max_features=1.0,\n",
    "                      accuracy_metric='r2')\n",
    "\n",
    "retweet_model.fit(X_train_lsi_retweet, y_retweet_train)\n",
    "\n",
    "retweet_pred_test = retweet_model.predict(X_test_lsi_retweet)"
   ]
  },
  {
   "cell_type": "code",
   "execution_count": null,
   "metadata": {
    "colab": {
     "base_uri": "https://localhost:8080/"
    },
    "id": "lHq2rcGWZOZR",
    "outputId": "8eed059a-35b7-417b-d0ed-07dd7b5d372a"
   },
   "outputs": [
    {
     "name": "stdout",
     "output_type": "stream",
     "text": [
      "RMSE of the testing data:  7.602861512660419\n",
      "MAE of the testing data:  0.10957864989728443\n",
      "r-squared score of the testing data:  0.3735646103965934\n"
     ]
    }
   ],
   "source": [
    "rmse_mae(y_retweet_test, retweet_pred_test)\n",
    "#print(\"r-squared score of the training data: \", retweet_model.score(X_train_lsi_retweet, y_retweet_train))"
   ]
  },
  {
   "cell_type": "code",
   "execution_count": null,
   "metadata": {
    "id": "sipIG2H9u_dM"
   },
   "outputs": [],
   "source": [
    "RMSE.append(math.sqrt(mean_squared_error(y_retweet_test, retweet_pred_test)))\n",
    "MAE.append(float(mean_absolute_error(y_retweet_test, retweet_pred_test)))\n",
    "r2.append(r2_score(y_retweet_test, retweet_pred_test))"
   ]
  },
  {
   "cell_type": "markdown",
   "metadata": {
    "id": "rAD5w91yrWhO"
   },
   "source": [
    "- Logistic Regression"
   ]
  },
  {
   "cell_type": "code",
   "execution_count": null,
   "metadata": {
    "colab": {
     "base_uri": "https://localhost:8080/"
    },
    "id": "c19cPwJqnaUe",
    "outputId": "81e02f8c-a97e-41d3-922a-19e02548aa8d"
   },
   "outputs": [
    {
     "name": "stdout",
     "output_type": "stream",
     "text": [
      "RMSE of the testing data:  9.604919875023233\n",
      "MAE of the testing data:  0.10640484532839828\n",
      "r-squared score of the testing data:  0.000208091581444525\n"
     ]
    }
   ],
   "source": [
    "lr = LogisticRegression(penalty='l2', C=10, max_iter=10000, tol=0.0001, solver='qn')\n",
    "                    \n",
    "reg2 = lr.fit(X_train_lsi_retweet, y_retweet_train)\n",
    "\n",
    "reg2_pred_test = reg2.predict(X_test_lsi_retweet)\n",
    "rmse_mae(y_retweet_test, reg2_pred_test)"
   ]
  },
  {
   "cell_type": "code",
   "execution_count": null,
   "metadata": {
    "id": "UYei3Uoru-U6"
   },
   "outputs": [],
   "source": [
    "RMSE.append(math.sqrt(mean_squared_error(y_retweet_test, reg2_pred_test)))\n",
    "MAE.append(float(mean_absolute_error(y_retweet_test, reg2_pred_test)))\n",
    "r2.append(r2_score(y_retweet_test, reg2_pred_test))"
   ]
  },
  {
   "cell_type": "code",
   "execution_count": null,
   "metadata": {
    "colab": {
     "base_uri": "https://localhost:8080/",
     "height": 809
    },
    "id": "wPPeUngrsZ8f",
    "outputId": "257f5f0c-3175-474b-b773-903b3341cbbf"
   },
   "outputs": [
    {
     "data": {
      "image/png": "[encoded data removed]",
      "text/plain": [
       "<Figure size 432x288 with 1 Axes>"
      ]
     },
     "metadata": {
      "needs_background": "light"
     },
     "output_type": "display_data"
    },
    {
     "data": {
      "image/png": "[encoded data removed]",
      "text/plain": [
       "<Figure size 432x288 with 1 Axes>"
      ]
     },
     "metadata": {
      "needs_background": "light"
     },
     "output_type": "display_data"
    },
    {
     "data": {
      "image/png": "[encoded data removed]",
      "text/plain": [
       "<Figure size 432x288 with 1 Axes>"
      ]
     },
     "metadata": {
      "needs_background": "light"
     },
     "output_type": "display_data"
    }
   ],
   "source": [
    "width = 0.1\n",
    "xticks = ['Lin Reg', 'RF Reg', 'Log Reg']\n",
    "\n",
    "plt.bar(xticks, RMSE, width)\n",
    "plt.ylabel('RMSE')\n",
    "plt.title('RMSE for the prediction of the number of retweets')\n",
    "plt.show()\n",
    "\n",
    "plt.bar(xticks, MAE, width, color='orange')\n",
    "plt.ylabel('MAE')\n",
    "plt.title('MAE for the prediction of the number of retweets')\n",
    "plt.show()\n",
    "\n",
    "plt.bar(xticks, r2, width, color='green')\n",
    "plt.ylabel('r2')\n",
    "plt.title('r-squared score for the prediction of the number of retweets')\n",
    "plt.show()"
   ]
  },
  {
   "cell_type": "markdown",
   "metadata": {
    "id": "9JpKDVEC2upt"
   },
   "source": [
    "Conclusion:\n",
    "- Linear vs. Random Forest vs. Logistic: We can see that Linear Regression does the best in this task.  The r-squared score of Linear Regression is good. In the next parts, we will only consider use Linear Regression and Random Forest Regression.\n",
    "- The unit of RMSE is the number of retweets. We think these numbers we get are reasonable since for RMSE, the number has been squared and it will make the error increase significantly."
   ]
  },
  {
   "cell_type": "markdown",
   "metadata": {
    "id": "ujTI_V2Awcp0"
   },
   "source": [
    "# Predict the number of Likes"
   ]
  },
  {
   "cell_type": "markdown",
   "metadata": {
    "id": "HQqgKzoV3KxT"
   },
   "source": [
    "- Adding normalized features of retweetd_count, quotes_count, time_count, and two kinds of followers_count "
   ]
  },
  {
   "cell_type": "code",
   "execution_count": null,
   "metadata": {
    "id": "PLHkWLQQVI1r"
   },
   "outputs": [],
   "source": [
    "# Adding the useful features\n",
    "X_train_lsi_like = X_train_lsi\n",
    "X_test_lsi_like = X_test_lsi\n",
    "\n",
    "X_train_lsi_like = np.concatenate((X_train_lsi_like, y_retweet_train_norm.reshape(y_retweet_train_norm.shape[0], 1)), axis=1)\n",
    "X_test_lsi_like = np.concatenate((X_test_lsi_like, y_retweet_test_norm.reshape(y_retweet_test_norm.shape[0], 1)), axis=1)\n",
    "\n",
    "X_train_lsi_like = np.concatenate((X_train_lsi_like, y_quote_train_norm.reshape(y_quote_train_norm.shape[0], 1)), axis=1)\n",
    "X_test_lsi_like = np.concatenate((X_test_lsi_like, y_quote_test_norm.reshape(y_quote_test_norm.shape[0], 1)), axis=1)\n",
    "\n",
    "X_train_lsi_like = np.concatenate((X_train_lsi_like, y_time_train_norm.reshape(y_time_train_norm.shape[0], 1)), axis=1)\n",
    "X_test_lsi_like = np.concatenate((X_test_lsi_like, y_time_test_norm.reshape(y_time_test_norm.shape[0], 1)), axis=1)\n",
    "\n",
    "X_train_lsi_like = np.concatenate((X_train_lsi_like, follower_1_train_norm.reshape(follower_1_train_norm.shape[0], 1)), axis=1)\n",
    "X_test_lsi_like = np.concatenate((X_test_lsi_like, follower_1_test_norm.reshape(follower_1_test_norm.shape[0], 1)), axis=1)\n",
    "\n",
    "X_train_lsi_like = np.concatenate((X_train_lsi_like, follower_2_train_norm.reshape(follower_2_train_norm.shape[0], 1)), axis=1)\n",
    "X_test_lsi_like = np.concatenate((X_test_lsi_like, follower_2_test_norm.reshape(follower_2_test_norm.shape[0], 1)), axis=1)"
   ]
  },
  {
   "cell_type": "code",
   "execution_count": null,
   "metadata": {
    "id": "20GpujSK5U7d"
   },
   "outputs": [],
   "source": [
    "RMSE = []\n",
    "MAE = []\n",
    "r2 = []"
   ]
  },
  {
   "cell_type": "markdown",
   "metadata": {
    "id": "3QICJfZLrmQ4"
   },
   "source": [
    "- Linear Regression"
   ]
  },
  {
   "cell_type": "code",
   "execution_count": null,
   "metadata": {
    "colab": {
     "base_uri": "https://localhost:8080/"
    },
    "id": "6QyN-X3NsLVz",
    "outputId": "4fd9d6e6-dcc6-4aba-f771-a48c42df91b3"
   },
   "outputs": [
    {
     "name": "stdout",
     "output_type": "stream",
     "text": [
      "RMSE of the testing data:  8.26305575002017\n",
      "MAE of the testing data:  0.17662692014483053\n",
      "r-squared score of the testing data:  0.4077727536915532\n"
     ]
    }
   ],
   "source": [
    "lr = LinearRegression(fit_intercept = True, normalize = False,\n",
    "                      algorithm = 'svd')\n",
    "\n",
    "reg = lr.fit(X_train_lsi_like, y_like_train)\n",
    "\n",
    "reg_pred_test = reg.predict(X_test_lsi_like)\n",
    "rmse_mae(y_like_test, reg_pred_test)"
   ]
  },
  {
   "cell_type": "code",
   "execution_count": null,
   "metadata": {
    "id": "aNTSa45u5ZcG"
   },
   "outputs": [],
   "source": [
    "RMSE.append(math.sqrt(mean_squared_error(y_like_test, reg_pred_test)))\n",
    "MAE.append(float(mean_absolute_error(y_like_test, reg_pred_test)))\n",
    "r2.append(r2_score(y_like_test, reg_pred_test))"
   ]
  },
  {
   "cell_type": "markdown",
   "metadata": {
    "id": "BGPgaO1vr1vN"
   },
   "source": [
    "- Random Forest Regressor"
   ]
  },
  {
   "cell_type": "code",
   "execution_count": null,
   "metadata": {
    "id": "4R_9qoSJwg0q"
   },
   "outputs": [],
   "source": [
    "like_model = cuRFR(n_estimators=200,\n",
    "                   split_criterion='mse',\n",
    "                   n_bins=1024,\n",
    "                   max_features=1.0,\n",
    "                   accuracy_metric='r2')\n",
    "\n",
    "like_model.fit(X_train_lsi_like, y_like_train)\n",
    "\n",
    "like_pred_test = like_model.predict(X_test_lsi_like)"
   ]
  },
  {
   "cell_type": "code",
   "execution_count": null,
   "metadata": {
    "colab": {
     "base_uri": "https://localhost:8080/"
    },
    "id": "ZvCW4T6esQtC",
    "outputId": "5e5d591a-ce74-4563-d672-a5d3e19d35eb"
   },
   "outputs": [
    {
     "name": "stdout",
     "output_type": "stream",
     "text": [
      "RMSE of the testing data:  13.123886703124283\n",
      "MAE of the testing data:  0.14682242981601903\n",
      "r-squared score of the testing data:  -0.493935897986453\n"
     ]
    }
   ],
   "source": [
    "rmse_mae(y_like_test, like_pred_test)\n",
    "# print(\"r-squared score of the training data: \", like_model.score(X_train_lsi_like, y_like_train))"
   ]
  },
  {
   "cell_type": "code",
   "execution_count": null,
   "metadata": {
    "id": "z1qRdaPV5f8M"
   },
   "outputs": [],
   "source": [
    "RMSE.append(math.sqrt(mean_squared_error(y_like_test, like_pred_test)))\n",
    "MAE.append(float(mean_absolute_error(y_like_test, like_pred_test)))\n",
    "r2.append(r2_score(y_like_test, like_pred_test))"
   ]
  },
  {
   "cell_type": "code",
   "execution_count": null,
   "metadata": {
    "colab": {
     "base_uri": "https://localhost:8080/",
     "height": 809
    },
    "id": "0hAYQ9z46XUv",
    "outputId": "515b31c3-5543-441c-81ae-0fc6aab44d82"
   },
   "outputs": [
    {
     "data": {
      "image/png": "[encoded data removed]",
      "text/plain": [
       "<Figure size 432x288 with 1 Axes>"
      ]
     },
     "metadata": {
      "needs_background": "light"
     },
     "output_type": "display_data"
    },
    {
     "data": {
      "image/png": "[encoded data removed]",
      "text/plain": [
       "<Figure size 432x288 with 1 Axes>"
      ]
     },
     "metadata": {
      "needs_background": "light"
     },
     "output_type": "display_data"
    },
    {
     "data": {
      "image/png": "[encoded data removed]",
      "text/plain": [
       "<Figure size 432x288 with 1 Axes>"
      ]
     },
     "metadata": {
      "needs_background": "light"
     },
     "output_type": "display_data"
    }
   ],
   "source": [
    "width = 0.05\n",
    "xticks = ['Lin Reg', 'RF Reg']\n",
    "\n",
    "plt.bar(xticks, RMSE, width)\n",
    "plt.ylabel('RMSE')\n",
    "plt.title('RMSE for the prediction of the number of likes')\n",
    "plt.show()\n",
    "\n",
    "plt.bar(xticks, MAE, width, color='orange')\n",
    "plt.ylabel('MAE')\n",
    "plt.title('MAE for the prediction of the number of likes')\n",
    "plt.show()\n",
    "\n",
    "plt.bar(xticks, r2, width, color='green')\n",
    "plt.ylabel('r2')\n",
    "plt.title('r-squared score for the prediction of the number of likes')\n",
    "plt.show()"
   ]
  },
  {
   "cell_type": "markdown",
   "metadata": {
    "id": "JZRlT_lf7mif"
   },
   "source": [
    "Conclusion:\n",
    "- Linear vs. Random Forest: We can see that Linear Regression does better in this task. The r-squared score of Linear Regression is relatively good.\n",
    "- The unit of RMSE is the number of likes. We think these numbers we get are reasonable since for RMSE, the number has been squared and it will make the error increase significantly."
   ]
  },
  {
   "cell_type": "markdown",
   "metadata": {
    "id": "RhWhhVkuxJOU"
   },
   "source": [
    "# Predict the number of Quotes"
   ]
  },
  {
   "cell_type": "markdown",
   "metadata": {
    "id": "_MvczN-K3Osq"
   },
   "source": [
    "- Adding normalized features of retweets_count, likes_count, time_count, and two kinds of followers_count "
   ]
  },
  {
   "cell_type": "code",
   "execution_count": null,
   "metadata": {
    "id": "WrJtTHsNVeiO"
   },
   "outputs": [],
   "source": [
    "# Adding the useful features\n",
    "X_train_lsi_quote = X_train_lsi\n",
    "X_test_lsi_quote = X_test_lsi\n",
    "\n",
    "X_train_lsi_quote = np.concatenate((X_train_lsi_quote, y_retweet_train_norm.reshape(y_retweet_train_norm.shape[0], 1)), axis=1)\n",
    "X_test_lsi_quote = np.concatenate((X_test_lsi_quote, y_retweet_test_norm.reshape(y_retweet_test_norm.shape[0], 1)), axis=1)\n",
    "\n",
    "X_train_lsi_quote = np.concatenate((X_train_lsi_quote, y_like_train_norm.reshape(y_like_train_norm.shape[0], 1)), axis=1)\n",
    "X_test_lsi_quote = np.concatenate((X_test_lsi_quote, y_like_test_norm.reshape(y_like_test_norm.shape[0], 1)), axis=1)\n",
    "\n",
    "X_train_lsi_quote = np.concatenate((X_train_lsi_quote, y_time_train_norm.reshape(y_time_train_norm.shape[0], 1)), axis=1)\n",
    "X_test_lsi_quote = np.concatenate((X_test_lsi_quote, y_time_test_norm.reshape(y_time_test_norm.shape[0], 1)), axis=1)\n",
    "\n",
    "X_train_lsi_quote = np.concatenate((X_train_lsi_quote, follower_1_train_norm.reshape(follower_1_train_norm.shape[0], 1)), axis=1)\n",
    "X_test_lsi_quote = np.concatenate((X_test_lsi_quote, follower_1_test_norm.reshape(follower_1_test_norm.shape[0], 1)), axis=1)\n",
    "\n",
    "X_train_lsi_quote = np.concatenate((X_train_lsi_quote, follower_2_train_norm.reshape(follower_2_train_norm.shape[0], 1)), axis=1)\n",
    "X_test_lsi_quote = np.concatenate((X_test_lsi_quote, follower_2_test_norm.reshape(follower_2_test_norm.shape[0], 1)), axis=1)"
   ]
  },
  {
   "cell_type": "code",
   "execution_count": null,
   "metadata": {
    "id": "Z7oLRsba76qY"
   },
   "outputs": [],
   "source": [
    "RMSE = []\n",
    "MAE = []\n",
    "r2 = []"
   ]
  },
  {
   "cell_type": "markdown",
   "metadata": {
    "id": "8I2dAWqRrpFx"
   },
   "source": [
    "- Linear Regression"
   ]
  },
  {
   "cell_type": "code",
   "execution_count": null,
   "metadata": {
    "colab": {
     "base_uri": "https://localhost:8080/"
    },
    "id": "gQ1kqvNqsFKQ",
    "outputId": "1097c4a4-6693-414c-ecc3-e0737fe079e9"
   },
   "outputs": [
    {
     "name": "stdout",
     "output_type": "stream",
     "text": [
      "RMSE of the testing data:  27.32441702985442\n",
      "MAE of the testing data:  1.5213741040916045\n",
      "r-squared score of the testing data:  0.589646935819709\n"
     ]
    }
   ],
   "source": [
    "lr = LinearRegression(fit_intercept = True, normalize = False,\n",
    "                      algorithm = 'svd')\n",
    "\n",
    "reg = lr.fit(X_train_lsi_quote, y_quote_train)\n",
    "\n",
    "reg_pred_test = reg.predict(X_test_lsi_quote)\n",
    "rmse_mae(y_quote_test, reg_pred_test)"
   ]
  },
  {
   "cell_type": "code",
   "execution_count": null,
   "metadata": {
    "id": "yyzsphth8BDA"
   },
   "outputs": [],
   "source": [
    "RMSE.append(math.sqrt(mean_squared_error(y_quote_test, reg_pred_test)))\n",
    "MAE.append(float(mean_absolute_error(y_quote_test, reg_pred_test)))\n",
    "r2.append(r2_score(y_quote_test, reg_pred_test))"
   ]
  },
  {
   "cell_type": "markdown",
   "metadata": {
    "id": "xkikcWxEr38T"
   },
   "source": [
    "- Random Forest Regressor"
   ]
  },
  {
   "cell_type": "code",
   "execution_count": null,
   "metadata": {
    "id": "XYoXlPVRxMW9"
   },
   "outputs": [],
   "source": [
    "quote_model = cuRFR(n_estimators=200,\n",
    "                    split_criterion='mse',\n",
    "                    n_bins=1024,\n",
    "                    max_features=1.0,\n",
    "                    accuracy_metric='r2')\n",
    "\n",
    "quote_model.fit(X_train_lsi_quote, y_quote_train)\n",
    "\n",
    "quote_pred_test = quote_model.predict(X_test_lsi_quote)"
   ]
  },
  {
   "cell_type": "code",
   "execution_count": null,
   "metadata": {
    "colab": {
     "base_uri": "https://localhost:8080/"
    },
    "id": "UKOe3JSPspFs",
    "outputId": "fb830f84-f6b2-4c9b-a935-24406d686666"
   },
   "outputs": [
    {
     "name": "stdout",
     "output_type": "stream",
     "text": [
      "RMSE of the testing data:  46.80687848253037\n",
      "MAE of the testing data:  2.4308691499758477\n",
      "r-squared score of the testing data:  -0.20413513683569362\n"
     ]
    }
   ],
   "source": [
    "rmse_mae(y_quote_test, quote_pred_test)\n",
    "# print(\"r-squared score of the training data: \", quote_model.score(X_train_lsi_quote, y_quote_train))"
   ]
  },
  {
   "cell_type": "code",
   "execution_count": null,
   "metadata": {
    "id": "_RjVyJmC8G4y"
   },
   "outputs": [],
   "source": [
    "RMSE.append(math.sqrt(mean_squared_error(y_quote_test, quote_pred_test)))\n",
    "MAE.append(float(mean_absolute_error(y_quote_test, quote_pred_test)))\n",
    "r2.append(r2_score(y_quote_test, quote_pred_test))"
   ]
  },
  {
   "cell_type": "code",
   "execution_count": null,
   "metadata": {
    "colab": {
     "base_uri": "https://localhost:8080/",
     "height": 809
    },
    "id": "5p5NK3jX8bSs",
    "outputId": "512078a8-3d87-4a4a-fa48-3cab8fa849e0"
   },
   "outputs": [
    {
     "data": {
      "image/png": "[encoded data removed]",
      "text/plain": [
       "<Figure size 432x288 with 1 Axes>"
      ]
     },
     "metadata": {
      "needs_background": "light"
     },
     "output_type": "display_data"
    },
    {
     "data": {
      "image/png": "[encoded data removed]",
      "text/plain": [
       "<Figure size 432x288 with 1 Axes>"
      ]
     },
     "metadata": {
      "needs_background": "light"
     },
     "output_type": "display_data"
    },
    {
     "data": {
      "image/png": "[encoded data removed]",
      "text/plain": [
       "<Figure size 432x288 with 1 Axes>"
      ]
     },
     "metadata": {
      "needs_background": "light"
     },
     "output_type": "display_data"
    }
   ],
   "source": [
    "width = 0.05\n",
    "xticks = ['Lin Reg', 'RF Reg']\n",
    "\n",
    "plt.bar(xticks, RMSE, width)\n",
    "plt.ylabel('RMSE')\n",
    "plt.title('RMSE for the prediction of the number of quotes')\n",
    "plt.show()\n",
    "\n",
    "plt.bar(xticks, MAE, width, color='orange')\n",
    "plt.ylabel('MAE')\n",
    "plt.title('MAE for the prediction of the number of quotes')\n",
    "plt.show()\n",
    "\n",
    "plt.bar(xticks, r2, width, color='green')\n",
    "plt.ylabel('r2')\n",
    "plt.title('r-squared score for the prediction of the number of quotes')\n",
    "plt.show()"
   ]
  },
  {
   "cell_type": "markdown",
   "metadata": {
    "id": "wf3Kelic9vfP"
   },
   "source": [
    "Conclusion:\n",
    "- Linear vs. Random Forest: We can see that Linear Regression does better in this task. The r-squared score of Linear Regression is good.\n",
    "- The unit of RMSE is the number of quotes. We think these numbers we get are reasonable since for RMSE, the number has been squared and it will make the error increase significantly."
   ]
  },
  {
   "cell_type": "markdown",
   "metadata": {
    "id": "SHvRxofOnfOp"
   },
   "source": [
    "# Predict the relative(UNIX) time when a tweet was posted"
   ]
  },
  {
   "cell_type": "markdown",
   "metadata": {
    "id": "zMdaB2Hz3X9q"
   },
   "source": [
    "- Adding normalized features of retweets_count, likes_count, quotes_count, and two kinds of followers_count "
   ]
  },
  {
   "cell_type": "code",
   "execution_count": null,
   "metadata": {
    "id": "y21v1H0LV3Dq"
   },
   "outputs": [],
   "source": [
    "# Adding the useful features\n",
    "X_train_lsi_time = X_train_lsi\n",
    "X_test_lsi_time = X_test_lsi\n",
    "\n",
    "X_train_lsi_time = np.concatenate((X_train_lsi_time, y_retweet_train_norm.reshape(y_retweet_train_norm.shape[0], 1)), axis=1)\n",
    "X_test_lsi_time = np.concatenate((X_test_lsi_time, y_retweet_test_norm.reshape(y_retweet_test_norm.shape[0], 1)), axis=1)\n",
    "\n",
    "X_train_lsi_time = np.concatenate((X_train_lsi_time, y_like_train_norm.reshape(y_like_train_norm.shape[0], 1)), axis=1)\n",
    "X_test_lsi_time = np.concatenate((X_test_lsi_time, y_like_test_norm.reshape(y_like_test_norm.shape[0], 1)), axis=1)\n",
    "\n",
    "X_train_lsi_time = np.concatenate((X_train_lsi_time, y_quote_train_norm.reshape(y_quote_train_norm.shape[0], 1)), axis=1)\n",
    "X_test_lsi_time = np.concatenate((X_test_lsi_time, y_quote_test_norm.reshape(y_quote_test_norm.shape[0], 1)), axis=1)\n",
    "\n",
    "X_train_lsi_time = np.concatenate((X_train_lsi_time, follower_1_train_norm.reshape(follower_1_train_norm.shape[0], 1)), axis=1)\n",
    "X_test_lsi_time = np.concatenate((X_test_lsi_time, follower_1_test_norm.reshape(follower_1_test_norm.shape[0], 1)), axis=1)\n",
    "\n",
    "X_train_lsi_time = np.concatenate((X_train_lsi_time, follower_2_train_norm.reshape(follower_2_train_norm.shape[0], 1)), axis=1)\n",
    "X_test_lsi_time = np.concatenate((X_test_lsi_time, follower_2_test_norm.reshape(follower_2_test_norm.shape[0], 1)), axis=1)"
   ]
  },
  {
   "cell_type": "code",
   "execution_count": null,
   "metadata": {
    "id": "JAetfSw877xX"
   },
   "outputs": [],
   "source": [
    "RMSE = []\n",
    "MAE = []\n",
    "r2 = []"
   ]
  },
  {
   "cell_type": "markdown",
   "metadata": {
    "id": "TqVvKCzRrrcG"
   },
   "source": [
    "- Linear Regression"
   ]
  },
  {
   "cell_type": "code",
   "execution_count": null,
   "metadata": {
    "colab": {
     "base_uri": "https://localhost:8080/"
    },
    "id": "mEdaayDAr_3B",
    "outputId": "9b525ae3-a0f2-4c7a-a0c7-8c8eb341ac38"
   },
   "outputs": [
    {
     "name": "stdout",
     "output_type": "stream",
     "text": [
      "RMSE of the testing data:  4355.861641044072\n",
      "MAE of the testing data:  3585.0382982385895\n",
      "r-squared score of the testing data:  0.13610066565181378\n"
     ]
    }
   ],
   "source": [
    "lr = LinearRegression(fit_intercept = True, normalize = False,\n",
    "                      algorithm = 'svd')\n",
    "\n",
    "reg = lr.fit(X_train_lsi_time, y_time_train)\n",
    "\n",
    "reg_pred_test = reg.predict(X_test_lsi_time)\n",
    "rmse_mae(y_time_test, reg_pred_test)"
   ]
  },
  {
   "cell_type": "code",
   "execution_count": null,
   "metadata": {
    "id": "ko6faZYz8MQ_"
   },
   "outputs": [],
   "source": [
    "RMSE.append(math.sqrt(mean_squared_error(y_time_test, reg_pred_test)))\n",
    "MAE.append(float(mean_absolute_error(y_time_test, reg_pred_test)))\n",
    "r2.append(r2_score(y_time_test, reg_pred_test))"
   ]
  },
  {
   "cell_type": "markdown",
   "metadata": {
    "id": "tO0CM4j9r5Ko"
   },
   "source": [
    "- Random Forest Regressor"
   ]
  },
  {
   "cell_type": "code",
   "execution_count": null,
   "metadata": {
    "id": "W30bhs7KneZ5"
   },
   "outputs": [],
   "source": [
    "time_model = cuRFR(n_estimators=200,\n",
    "                   split_criterion='mse',\n",
    "                   n_bins=1024,\n",
    "                   max_features=1.0,\n",
    "                   max_depth=256, \n",
    "                   accuracy_metric='r2')\n",
    "\n",
    "time_model.fit(X_train_lsi_time, y_time_train)\n",
    "\n",
    "time_pred_test = time_model.predict(X_test_lsi_time)"
   ]
  },
  {
   "cell_type": "code",
   "execution_count": null,
   "metadata": {
    "colab": {
     "base_uri": "https://localhost:8080/"
    },
    "id": "FCm6eWXBy45s",
    "outputId": "816abb9b-fa1f-4ce8-9908-c24727537479"
   },
   "outputs": [
    {
     "name": "stdout",
     "output_type": "stream",
     "text": [
      "RMSE of the testing data:  3949.7112764462186\n",
      "MAE of the testing data:  2972.6146395761853\n",
      "r-squared score of the testing data:  0.2896936678305433\n",
      "r-squared score of the training data:  0.7881966093588663\n"
     ]
    }
   ],
   "source": [
    "rmse_mae(y_time_test, time_pred_test)\n",
    "print(\"r-squared score of the training data: \", time_model.score(X_train_lsi_time, y_time_train))"
   ]
  },
  {
   "cell_type": "code",
   "execution_count": null,
   "metadata": {
    "id": "S8umOAvL8IlC"
   },
   "outputs": [],
   "source": [
    "RMSE.append(math.sqrt(mean_squared_error(y_time_test, time_pred_test)))\n",
    "MAE.append(float(mean_absolute_error(y_time_test, time_pred_test)))\n",
    "r2.append(r2_score(y_time_test, time_pred_test))"
   ]
  },
  {
   "cell_type": "code",
   "execution_count": null,
   "metadata": {
    "colab": {
     "base_uri": "https://localhost:8080/",
     "height": 809
    },
    "id": "rAbutoEv8SgE",
    "outputId": "85818b70-792f-4347-ea4b-f06276103063"
   },
   "outputs": [
    {
     "data": {
      "image/png": "[encoded data removed]",
      "text/plain": [
       "<Figure size 432x288 with 1 Axes>"
      ]
     },
     "metadata": {
      "needs_background": "light"
     },
     "output_type": "display_data"
    },
    {
     "data": {
      "image/png": "[encoded data removed]",
      "text/plain": [
       "<Figure size 432x288 with 1 Axes>"
      ]
     },
     "metadata": {
      "needs_background": "light"
     },
     "output_type": "display_data"
    },
    {
     "data": {
      "image/png": "[encoded data removed]",
      "text/plain": [
       "<Figure size 432x288 with 1 Axes>"
      ]
     },
     "metadata": {
      "needs_background": "light"
     },
     "output_type": "display_data"
    }
   ],
   "source": [
    "width = 0.05\n",
    "xticks = ['Lin Reg', 'RF Reg']\n",
    "\n",
    "plt.bar(xticks, RMSE, width)\n",
    "plt.ylabel('RMSE')\n",
    "plt.title('RMSE for the prediction of the relative time when tweet posted')\n",
    "plt.show()\n",
    "\n",
    "plt.bar(xticks, MAE, width, color='orange')\n",
    "plt.ylabel('MAE')\n",
    "plt.title('MAE for the prediction of the relative time when tweet posted')\n",
    "plt.show()\n",
    "\n",
    "plt.bar(xticks, r2, width, color='green')\n",
    "plt.ylabel('r2')\n",
    "plt.title('r-squared score for the prediction of the relative time when tweet posted')\n",
    "plt.show()"
   ]
  },
  {
   "cell_type": "markdown",
   "metadata": {
    "id": "3P-pzCe7VN7b"
   },
   "source": [
    "Conclusion:\n",
    "- Linear vs. Random Forest: We can see that Random Forest Regression does better in this task.\n",
    "- The units of RMSE and MAE are seconds. We think these numbers we get are reasonable since the timing distributes broadly and we use five-hour data.\n",
    "- Compared to MAE, the number of RMSE has been squared and it will make the error increase significantly, especially the unit is second in this task."
   ]
  },
  {
   "cell_type": "markdown",
   "metadata": {
    "id": "TwKhdSrK3pPs"
   },
   "source": [
    "# Creativity - Predict the number of followers of the person tweeting"
   ]
  },
  {
   "cell_type": "markdown",
   "metadata": {
    "id": "ZEuMFhz13dCG"
   },
   "source": [
    "- Adding normalized features of retweets_count, likes_count, quotes_count, and time_count"
   ]
  },
  {
   "cell_type": "code",
   "execution_count": null,
   "metadata": {
    "id": "2nF7iD-G3lkf"
   },
   "outputs": [],
   "source": [
    "# Adding the useful features\n",
    "X_train_lsi_follower = X_train_lsi\n",
    "X_test_lsi_follower = X_test_lsi\n",
    "\n",
    "X_train_lsi_follower = np.concatenate((X_train_lsi_follower, y_retweet_train_norm.reshape(y_retweet_train_norm.shape[0], 1)), axis=1)\n",
    "X_test_lsi_follower = np.concatenate((X_test_lsi_follower, y_retweet_test_norm.reshape(y_retweet_test_norm.shape[0], 1)), axis=1)\n",
    "\n",
    "X_train_lsi_follower = np.concatenate((X_train_lsi_follower, y_like_train_norm.reshape(y_like_train_norm.shape[0], 1)), axis=1)\n",
    "X_test_lsi_follower = np.concatenate((X_test_lsi_follower, y_like_test_norm.reshape(y_like_test_norm.shape[0], 1)), axis=1)\n",
    "\n",
    "X_train_lsi_follower = np.concatenate((X_train_lsi_follower, y_quote_train_norm.reshape(y_quote_train_norm.shape[0], 1)), axis=1)\n",
    "X_test_lsi_follower = np.concatenate((X_test_lsi_follower, y_quote_test_norm.reshape(y_quote_test_norm.shape[0], 1)), axis=1)\n",
    "\n",
    "X_train_lsi_follower = np.concatenate((X_train_lsi_follower, y_time_train_norm.reshape(y_time_train_norm.shape[0], 1)), axis=1)\n",
    "X_test_lsi_follower = np.concatenate((X_test_lsi_follower, y_time_test_norm.reshape(y_time_test_norm.shape[0], 1)), axis=1)"
   ]
  },
  {
   "cell_type": "code",
   "execution_count": null,
   "metadata": {
    "id": "tbZgIK3P78a9"
   },
   "outputs": [],
   "source": [
    "RMSE = []\n",
    "MAE = []\n",
    "r2 = []"
   ]
  },
  {
   "cell_type": "markdown",
   "metadata": {
    "id": "de1SMBs8rt_a"
   },
   "source": [
    "- Linear Regression"
   ]
  },
  {
   "cell_type": "code",
   "execution_count": null,
   "metadata": {
    "colab": {
     "base_uri": "https://localhost:8080/"
    },
    "id": "GIgzY5ugrwn_",
    "outputId": "f0c933fd-ec28-4d64-c902-8d82900e3579"
   },
   "outputs": [
    {
     "name": "stdout",
     "output_type": "stream",
     "text": [
      "RMSE of the testing data:  68744.36962092745\n",
      "MAE of the testing data:  3395.827596530905\n",
      "r-squared score of the testing data:  0.73726706888122\n"
     ]
    }
   ],
   "source": [
    "lr = LinearRegression(fit_intercept = True, normalize = False,\n",
    "                      algorithm = 'svd')\n",
    "\n",
    "reg = lr.fit(X_train_lsi_follower, follower_1_train)\n",
    "\n",
    "reg_pred_test = reg.predict(X_test_lsi_follower)\n",
    "rmse_mae(follower_1_test, reg_pred_test)"
   ]
  },
  {
   "cell_type": "code",
   "execution_count": null,
   "metadata": {
    "id": "seVFjWo18NR0"
   },
   "outputs": [],
   "source": [
    "RMSE.append(math.sqrt(mean_squared_error(follower_1_test, reg_pred_test)))\n",
    "MAE.append(float(mean_absolute_error(follower_1_test, reg_pred_test)))\n",
    "r2.append(r2_score(follower_1_test, reg_pred_test))"
   ]
  },
  {
   "cell_type": "markdown",
   "metadata": {
    "id": "Wzav5Hqtr9U_"
   },
   "source": [
    "- Random Forest Regressor"
   ]
  },
  {
   "cell_type": "code",
   "execution_count": null,
   "metadata": {
    "id": "7XM9BvS54Xi4"
   },
   "outputs": [],
   "source": [
    "follower_model = cuRFR(n_estimators=200,\n",
    "                   split_criterion='mse',\n",
    "                   n_bins=1024,\n",
    "                   max_features=1.0,\n",
    "                   accuracy_metric='r2')\n",
    "\n",
    "follower_model.fit(X_train_lsi_follower, follower_1_train)\n",
    "\n",
    "follower_pred_test = follower_model.predict(X_test_lsi_follower)"
   ]
  },
  {
   "cell_type": "code",
   "execution_count": null,
   "metadata": {
    "colab": {
     "base_uri": "https://localhost:8080/"
    },
    "id": "JIhyG_XX4ZFz",
    "outputId": "22262eb7-e59a-4124-dfe1-225351d50e15"
   },
   "outputs": [
    {
     "name": "stdout",
     "output_type": "stream",
     "text": [
      "RMSE of the testing data:  83164.44330403922\n",
      "MAE of the testing data:  2748.714073029891\n",
      "r-squared score of the testing data:  0.6154829403507002\n"
     ]
    }
   ],
   "source": [
    "rmse_mae(follower_1_test, follower_pred_test)\n",
    "# print(\"r-squared score of the training data: \", follower_model.score(X_train_lsi_follower, follower_1_train))"
   ]
  },
  {
   "cell_type": "code",
   "execution_count": null,
   "metadata": {
    "id": "BjJqxRrs8JVZ"
   },
   "outputs": [],
   "source": [
    "RMSE.append(math.sqrt(mean_squared_error(follower_1_test, follower_pred_test)))\n",
    "MAE.append(float(mean_absolute_error(follower_1_test, follower_pred_test)))\n",
    "r2.append(r2_score(follower_1_test, follower_pred_test))"
   ]
  },
  {
   "cell_type": "code",
   "execution_count": null,
   "metadata": {
    "colab": {
     "base_uri": "https://localhost:8080/",
     "height": 809
    },
    "id": "oBeG6bRe8TEu",
    "outputId": "aedd735c-d542-4f39-c56d-f8f3e016a87d"
   },
   "outputs": [
    {
     "data": {
      "image/png": "[encoded data removed]",
      "text/plain": [
       "<Figure size 432x288 with 1 Axes>"
      ]
     },
     "metadata": {
      "needs_background": "light"
     },
     "output_type": "display_data"
    },
    {
     "data": {
      "image/png": "[encoded data removed]",
      "text/plain": [
       "<Figure size 432x288 with 1 Axes>"
      ]
     },
     "metadata": {
      "needs_background": "light"
     },
     "output_type": "display_data"
    },
    {
     "data": {
      "image/png": "[encoded data removed]",
      "text/plain": [
       "<Figure size 432x288 with 1 Axes>"
      ]
     },
     "metadata": {
      "needs_background": "light"
     },
     "output_type": "display_data"
    }
   ],
   "source": [
    "width = 0.05\n",
    "xticks = ['Lin Reg', 'RF Reg']\n",
    "\n",
    "plt.bar(xticks, RMSE, width)\n",
    "plt.ylabel('RMSE')\n",
    "plt.title('RMSE for the prediction of the number of followers')\n",
    "plt.show()\n",
    "\n",
    "plt.bar(xticks, MAE, width, color='orange')\n",
    "plt.ylabel('MAE')\n",
    "plt.title('MAE for the prediction of the number of followers')\n",
    "plt.show()\n",
    "\n",
    "plt.bar(xticks, r2, width, color='green')\n",
    "plt.ylabel('r2')\n",
    "plt.title('r-squared score for the prediction of the number of followers')\n",
    "plt.show()"
   ]
  },
  {
   "cell_type": "markdown",
   "metadata": {
    "id": "jMIsT-WSAhic"
   },
   "source": [
    "Conclusion:\n",
    "- Linear vs. Random Forest: We can see that both Linear Regression and Random Forest Regression do great in this task. Linear Regression is a little bit better since the r-squared score of Linear Regression is higher.\n",
    "- The units of RMSE and MAE are the number of followers. We think these numbers we get are reasonable since the numbers of followers are usually very high and varies, e.g. 0.1K ~ 100K.\n",
    "- For RMSE, the number has been squared and it will make the error increase more significantly than MAE."
   ]
  }
 ],
 "metadata": {
  "accelerator": "GPU",
  "colab": {
   "collapsed_sections": [],
   "machine_shape": "hm",
   "name": "Project4_Twitter_sub.ipynb",
   "provenance": []
  },
  "kernelspec": {
   "display_name": "Python 3 (ipykernel)",
   "language": "python",
   "name": "python3"
  },
  "language_info": {
   "codemirror_mode": {
    "name": "ipython",
    "version": 3
   },
   "file_extension": ".py",
   "mimetype": "text/x-python",
   "name": "python",
   "nbconvert_exporter": "python",
   "pygments_lexer": "ipython3",
   "version": "3.8.3"
  }
 },
 "nbformat": 4,
 "nbformat_minor": 1
}
